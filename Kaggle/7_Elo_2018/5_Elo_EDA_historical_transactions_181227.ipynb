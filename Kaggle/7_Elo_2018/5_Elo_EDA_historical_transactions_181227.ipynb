{
 "cells": [
  {
   "cell_type": "markdown",
   "metadata": {},
   "source": [
    "# ELO MERCHANT CATEGORY RECOMMENDATION \n",
    "### COMPETITION ON KAGGLE\n",
    "## EDA OF historical_trainsactions.csv\n",
    "### 27-12-2018"
   ]
  },
  {
   "cell_type": "code",
   "execution_count": 1,
   "metadata": {},
   "outputs": [],
   "source": [
    "## Variables specific for competition\n",
    "\n",
    "ID = 'card_id'                                            \n",
    "TARGET = 'target'    \n",
    "\n",
    "RAW_DIRECTORY = 'C:/Users/judit/Documents/learning/kaggle/Elo_201812/rawdata/'  \n",
    "DIRECTORY = 'C:/Users/judit/Documents/learning/kaggle/Elo_201812/data/'\n",
    "HIST_TRANS_FILE = RAW_DIRECTORY + 'historical_transactions.csv'\n",
    "MERCHANTS_FILE = RAW_DIRECTORY + 'merchants.csv'\n",
    "NEW_MERCH_TRANS_FILE = RAW_DIRECTORY + 'new_merchant_transactions.csv'\n",
    "TRAIN_FILE = RAW_DIRECTORY + 'train.csv'    \n",
    "TEST_FILE = RAW_DIRECTORY +'test.csv'\n",
    "SAMPLE_SUBMISSION_FILE = RAW_DIRECTORY + 'sample_submission.csv'"
   ]
  },
  {
   "cell_type": "code",
   "execution_count": 2,
   "metadata": {},
   "outputs": [],
   "source": [
    "import pandas as pd\n",
    "import numpy as np\n",
    "import matplotlib.pyplot as plt\n",
    "%matplotlib inline\n",
    "import seaborn as sns\n",
    "import random\n",
    "#import missingno\n",
    "import pickle\n",
    "\n",
    "random.seed(1)"
   ]
  },
  {
   "cell_type": "code",
   "execution_count": 3,
   "metadata": {},
   "outputs": [],
   "source": [
    "hist = pd.read_csv(HIST_TRANS_FILE)"
   ]
  },
  {
   "cell_type": "code",
   "execution_count": 4,
   "metadata": {},
   "outputs": [
    {
     "data": {
      "text/html": [
       "<div>\n",
       "<style scoped>\n",
       "    .dataframe tbody tr th:only-of-type {\n",
       "        vertical-align: middle;\n",
       "    }\n",
       "\n",
       "    .dataframe tbody tr th {\n",
       "        vertical-align: top;\n",
       "    }\n",
       "\n",
       "    .dataframe thead th {\n",
       "        text-align: right;\n",
       "    }\n",
       "</style>\n",
       "<table border=\"1\" class=\"dataframe\">\n",
       "  <thead>\n",
       "    <tr style=\"text-align: right;\">\n",
       "      <th></th>\n",
       "      <th>authorized_flag</th>\n",
       "      <th>card_id</th>\n",
       "      <th>city_id</th>\n",
       "      <th>category_1</th>\n",
       "      <th>installments</th>\n",
       "      <th>category_3</th>\n",
       "      <th>merchant_category_id</th>\n",
       "      <th>merchant_id</th>\n",
       "      <th>month_lag</th>\n",
       "      <th>purchase_amount</th>\n",
       "      <th>purchase_date</th>\n",
       "      <th>category_2</th>\n",
       "      <th>state_id</th>\n",
       "      <th>subsector_id</th>\n",
       "    </tr>\n",
       "  </thead>\n",
       "  <tbody>\n",
       "    <tr>\n",
       "      <th>0</th>\n",
       "      <td>Y</td>\n",
       "      <td>C_ID_4e6213e9bc</td>\n",
       "      <td>88</td>\n",
       "      <td>N</td>\n",
       "      <td>0</td>\n",
       "      <td>A</td>\n",
       "      <td>80</td>\n",
       "      <td>M_ID_e020e9b302</td>\n",
       "      <td>-8</td>\n",
       "      <td>-0.703331</td>\n",
       "      <td>2017-06-25 15:33:07</td>\n",
       "      <td>1.0</td>\n",
       "      <td>16</td>\n",
       "      <td>37</td>\n",
       "    </tr>\n",
       "    <tr>\n",
       "      <th>1</th>\n",
       "      <td>Y</td>\n",
       "      <td>C_ID_4e6213e9bc</td>\n",
       "      <td>88</td>\n",
       "      <td>N</td>\n",
       "      <td>0</td>\n",
       "      <td>A</td>\n",
       "      <td>367</td>\n",
       "      <td>M_ID_86ec983688</td>\n",
       "      <td>-7</td>\n",
       "      <td>-0.733128</td>\n",
       "      <td>2017-07-15 12:10:45</td>\n",
       "      <td>1.0</td>\n",
       "      <td>16</td>\n",
       "      <td>16</td>\n",
       "    </tr>\n",
       "    <tr>\n",
       "      <th>2</th>\n",
       "      <td>Y</td>\n",
       "      <td>C_ID_4e6213e9bc</td>\n",
       "      <td>88</td>\n",
       "      <td>N</td>\n",
       "      <td>0</td>\n",
       "      <td>A</td>\n",
       "      <td>80</td>\n",
       "      <td>M_ID_979ed661fc</td>\n",
       "      <td>-6</td>\n",
       "      <td>-0.720386</td>\n",
       "      <td>2017-08-09 22:04:29</td>\n",
       "      <td>1.0</td>\n",
       "      <td>16</td>\n",
       "      <td>37</td>\n",
       "    </tr>\n",
       "    <tr>\n",
       "      <th>3</th>\n",
       "      <td>Y</td>\n",
       "      <td>C_ID_4e6213e9bc</td>\n",
       "      <td>88</td>\n",
       "      <td>N</td>\n",
       "      <td>0</td>\n",
       "      <td>A</td>\n",
       "      <td>560</td>\n",
       "      <td>M_ID_e6d5ae8ea6</td>\n",
       "      <td>-5</td>\n",
       "      <td>-0.735352</td>\n",
       "      <td>2017-09-02 10:06:26</td>\n",
       "      <td>1.0</td>\n",
       "      <td>16</td>\n",
       "      <td>34</td>\n",
       "    </tr>\n",
       "    <tr>\n",
       "      <th>4</th>\n",
       "      <td>Y</td>\n",
       "      <td>C_ID_4e6213e9bc</td>\n",
       "      <td>88</td>\n",
       "      <td>N</td>\n",
       "      <td>0</td>\n",
       "      <td>A</td>\n",
       "      <td>80</td>\n",
       "      <td>M_ID_e020e9b302</td>\n",
       "      <td>-11</td>\n",
       "      <td>-0.722865</td>\n",
       "      <td>2017-03-10 01:14:19</td>\n",
       "      <td>1.0</td>\n",
       "      <td>16</td>\n",
       "      <td>37</td>\n",
       "    </tr>\n",
       "  </tbody>\n",
       "</table>\n",
       "</div>"
      ],
      "text/plain": [
       "  authorized_flag          card_id  city_id category_1  installments  \\\n",
       "0               Y  C_ID_4e6213e9bc       88          N             0   \n",
       "1               Y  C_ID_4e6213e9bc       88          N             0   \n",
       "2               Y  C_ID_4e6213e9bc       88          N             0   \n",
       "3               Y  C_ID_4e6213e9bc       88          N             0   \n",
       "4               Y  C_ID_4e6213e9bc       88          N             0   \n",
       "\n",
       "  category_3  merchant_category_id      merchant_id  month_lag  \\\n",
       "0          A                    80  M_ID_e020e9b302         -8   \n",
       "1          A                   367  M_ID_86ec983688         -7   \n",
       "2          A                    80  M_ID_979ed661fc         -6   \n",
       "3          A                   560  M_ID_e6d5ae8ea6         -5   \n",
       "4          A                    80  M_ID_e020e9b302        -11   \n",
       "\n",
       "   purchase_amount        purchase_date  category_2  state_id  subsector_id  \n",
       "0        -0.703331  2017-06-25 15:33:07         1.0        16            37  \n",
       "1        -0.733128  2017-07-15 12:10:45         1.0        16            16  \n",
       "2        -0.720386  2017-08-09 22:04:29         1.0        16            37  \n",
       "3        -0.735352  2017-09-02 10:06:26         1.0        16            34  \n",
       "4        -0.722865  2017-03-10 01:14:19         1.0        16            37  "
      ]
     },
     "execution_count": 4,
     "metadata": {},
     "output_type": "execute_result"
    }
   ],
   "source": [
    "hist.head()"
   ]
  },
  {
   "cell_type": "code",
   "execution_count": 5,
   "metadata": {},
   "outputs": [
    {
     "name": "stdout",
     "output_type": "stream",
     "text": [
      "object        authorized_flag\n",
      "object        card_id\n",
      "int64        city_id\n",
      "object        category_1\n",
      "int64        installments\n",
      "object        category_3\n",
      "int64        merchant_category_id\n",
      "object        merchant_id\n",
      "int64        month_lag\n",
      "float64        purchase_amount\n",
      "object        purchase_date\n",
      "float64        category_2\n",
      "int64        state_id\n",
      "int64        subsector_id\n"
     ]
    }
   ],
   "source": [
    "for idx in range(len(hist.columns)):\n",
    "    print(hist.dtypes[idx], ' '*6, hist.columns[idx])"
   ]
  },
  {
   "cell_type": "code",
   "execution_count": 6,
   "metadata": {},
   "outputs": [
    {
     "data": {
      "text/plain": [
       "(29112361, 14)"
      ]
     },
     "execution_count": 6,
     "metadata": {},
     "output_type": "execute_result"
    }
   ],
   "source": [
    "hist.shape"
   ]
  },
  {
   "cell_type": "markdown",
   "metadata": {},
   "source": [
    "## Separate numeric and categorical variables"
   ]
  },
  {
   "cell_type": "code",
   "execution_count": 9,
   "metadata": {},
   "outputs": [
    {
     "name": "stdout",
     "output_type": "stream",
     "text": [
      "Index(['authorized_flag', 'card_id', 'category_1', 'category_3', 'merchant_id',\n",
      "       'purchase_date'],\n",
      "      dtype='object')\n",
      "Index(['city_id', 'installments', 'merchant_category_id', 'month_lag',\n",
      "       'purchase_amount', 'category_2', 'state_id', 'subsector_id'],\n",
      "      dtype='object')\n"
     ]
    }
   ],
   "source": [
    "# Find columns with numeric (int or float) values and nonnumeric (categorical) variables\n",
    "\n",
    "nonnumeric_cols = hist.dtypes[hist.dtypes == 'object'].index.copy()\n",
    "numeric_cols = hist.dtypes[hist.dtypes != 'object'].index.copy()\n",
    "print(nonnumeric_cols)\n",
    "print(numeric_cols)"
   ]
  },
  {
   "cell_type": "code",
   "execution_count": 10,
   "metadata": {},
   "outputs": [
    {
     "data": {
      "text/plain": [
       "object     6\n",
       "int64      6\n",
       "float64    2\n",
       "dtype: int64"
      ]
     },
     "execution_count": 10,
     "metadata": {},
     "output_type": "execute_result"
    }
   ],
   "source": [
    "## Number of variables with different dtypes\n",
    "hist.dtypes.value_counts()"
   ]
  },
  {
   "cell_type": "code",
   "execution_count": 17,
   "metadata": {},
   "outputs": [],
   "source": [
    "def describe_variable(dt, data = hist):\n",
    "    print('--------------------------------------------')\n",
    "    for c in data.columns:\n",
    "        if data[c].dtype == dt:\n",
    "            t1 = data[c]\n",
    "            if dt == \"object\":\n",
    "                f1 = t1[pd.isnull(t1) == False].value_counts()\n",
    "                fp1 = 100 * t1[pd.isnull(t1) == False].value_counts() / sum(t1[pd.isnull(t1) == False].value_counts())\n",
    "                f = pd.concat([f1, fp1], axis = 1, sort = False)\n",
    "                f.columns=['Hist', 'Hist percent']\n",
    "            else:\n",
    "                f1 = t1[pd.isnull(t1) == False].describe()\n",
    "                f = pd.concat([f1], axis = 1)\n",
    "                f.columns=['Hist']\n",
    "            m1 = sum(t1.isnull())\n",
    "            print(dt + ' - ' + c)\n",
    "            print('Number of unique values: %d' % (len(t1.value_counts())))\n",
    "            print('Number of missing values: %d' %  (m1))\n",
    "            if dt == 'object':\n",
    "                print(f.sort_values(by = 'Hist', ascending = False).iloc[:15])\n",
    "            else:\n",
    "                print(f)\n",
    "            \n",
    "            if dt != \"object\":\n",
    "                if len(t1.value_counts())<=15:\n",
    "                    c1 = t1.value_counts()\n",
    "                    p1 = 100. * c1 / sum(c1)\n",
    "                    c = pd.concat([c1, p1], axis=1)\n",
    "                    c.columns=['Hist', 'Hist percent']\n",
    "                    print(c)\n",
    "            print('=' * 30)"
   ]
  },
  {
   "cell_type": "code",
   "execution_count": 18,
   "metadata": {
    "scrolled": false
   },
   "outputs": [
    {
     "name": "stdout",
     "output_type": "stream",
     "text": [
      "--------------------------------------------\n",
      "int64 - city_id\n",
      "Number of unique values: 308\n",
      "Number of missing values: 0\n",
      "               Hist\n",
      "count  2.911236e+07\n",
      "mean   1.293256e+02\n",
      "std    1.042563e+02\n",
      "min   -1.000000e+00\n",
      "25%    5.300000e+01\n",
      "50%    9.000000e+01\n",
      "75%    2.120000e+02\n",
      "max    3.470000e+02\n",
      "==============================\n",
      "int64 - installments\n",
      "Number of unique values: 15\n",
      "Number of missing values: 0\n",
      "               Hist\n",
      "count  2.911236e+07\n",
      "mean   6.484954e-01\n",
      "std    2.795577e+00\n",
      "min   -1.000000e+00\n",
      "25%    0.000000e+00\n",
      "50%    0.000000e+00\n",
      "75%    1.000000e+00\n",
      "max    9.990000e+02\n",
      "          Hist  Hist percent\n",
      " 0    15411747     52.938843\n",
      " 1    11677522     40.111903\n",
      " 2      666416      2.289117\n",
      " 3      538207      1.848723\n",
      " 4      179525      0.616662\n",
      "-1      178159      0.611970\n",
      " 6      132634      0.455593\n",
      " 10     118827      0.408167\n",
      " 5      116090      0.398765\n",
      " 12      55064      0.189143\n",
      " 8       20474      0.070328\n",
      " 7       10906      0.037462\n",
      " 9        5772      0.019827\n",
      " 11        830      0.002851\n",
      " 999       188      0.000646\n",
      "==============================\n",
      "int64 - merchant_category_id\n",
      "Number of unique values: 327\n",
      "Number of missing values: 0\n",
      "               Hist\n",
      "count  2.911236e+07\n",
      "mean   4.810130e+02\n",
      "std    2.493757e+02\n",
      "min   -1.000000e+00\n",
      "25%    3.070000e+02\n",
      "50%    4.540000e+02\n",
      "75%    7.050000e+02\n",
      "max    8.910000e+02\n",
      "==============================\n",
      "int64 - month_lag\n",
      "Number of unique values: 14\n",
      "Number of missing values: 0\n",
      "               Hist\n",
      "count  2.911236e+07\n",
      "mean  -4.487294e+00\n",
      "std    3.588800e+00\n",
      "min   -1.300000e+01\n",
      "25%   -7.000000e+00\n",
      "50%   -4.000000e+00\n",
      "75%   -2.000000e+00\n",
      "max    0.000000e+00\n",
      "        Hist  Hist percent\n",
      "-2   3857276     13.249616\n",
      "-1   3627430     12.460102\n",
      " 0   3470946     11.922585\n",
      "-3   3095651     10.633459\n",
      "-4   2639805      9.067643\n",
      "-5   2364790      8.122976\n",
      "-6   2050048      7.041847\n",
      "-7   1769844      6.079356\n",
      "-8   1427846      4.904604\n",
      "-9   1234724      4.241236\n",
      "-10  1085053      3.727121\n",
      "-11  1007878      3.462028\n",
      "-12   791973      2.720401\n",
      "-13   689097      2.367025\n",
      "==============================\n",
      "int64 - state_id\n",
      "Number of unique values: 25\n",
      "Number of missing values: 0\n",
      "               Hist\n",
      "count  2.911236e+07\n",
      "mean   1.056679e+01\n",
      "std    6.366927e+00\n",
      "min   -1.000000e+00\n",
      "25%    9.000000e+00\n",
      "50%    9.000000e+00\n",
      "75%    1.600000e+01\n",
      "max    2.400000e+01\n",
      "==============================\n",
      "int64 - subsector_id\n",
      "Number of unique values: 41\n",
      "Number of missing values: 0\n",
      "               Hist\n",
      "count  2.911236e+07\n",
      "mean   2.684839e+01\n",
      "std    9.692793e+00\n",
      "min   -1.000000e+00\n",
      "25%    1.900000e+01\n",
      "50%    2.900000e+01\n",
      "75%    3.400000e+01\n",
      "max    4.100000e+01\n",
      "==============================\n"
     ]
    }
   ],
   "source": [
    "describe_variable('int64')"
   ]
  },
  {
   "cell_type": "code",
   "execution_count": 19,
   "metadata": {},
   "outputs": [
    {
     "name": "stdout",
     "output_type": "stream",
     "text": [
      "--------------------------------------------\n",
      "float64 - purchase_amount\n",
      "Number of unique values: 215014\n",
      "Number of missing values: 0\n",
      "               Hist\n",
      "count  2.911236e+07\n",
      "mean   3.640090e-02\n",
      "std    1.123522e+03\n",
      "min   -7.469078e-01\n",
      "25%   -7.203559e-01\n",
      "50%   -6.883495e-01\n",
      "75%   -6.032543e-01\n",
      "max    6.010604e+06\n",
      "==============================\n",
      "float64 - category_2\n",
      "Number of unique values: 5\n",
      "Number of missing values: 2652864\n",
      "               Hist\n",
      "count  2.645950e+07\n",
      "mean   2.194578e+00\n",
      "std    1.531896e+00\n",
      "min    1.000000e+00\n",
      "25%    1.000000e+00\n",
      "50%    1.000000e+00\n",
      "75%    3.000000e+00\n",
      "max    5.000000e+00\n",
      "         Hist  Hist percent\n",
      "1.0  15177199     57.360119\n",
      "3.0   3911795     14.784087\n",
      "5.0   3725915     14.081579\n",
      "4.0   2618053      9.894568\n",
      "2.0   1026535      3.879647\n",
      "==============================\n"
     ]
    }
   ],
   "source": [
    "describe_variable('float64')"
   ]
  },
  {
   "cell_type": "code",
   "execution_count": 20,
   "metadata": {},
   "outputs": [
    {
     "name": "stdout",
     "output_type": "stream",
     "text": [
      "--------------------------------------------\n",
      "object - authorized_flag\n",
      "Number of unique values: 2\n",
      "Number of missing values: 0\n",
      "       Hist  Hist percent\n",
      "Y  26595452     91.354501\n",
      "N   2516909      8.645499\n",
      "==============================\n",
      "object - card_id\n",
      "Number of unique values: 325540\n",
      "Number of missing values: 0\n",
      "                 Hist  Hist percent\n",
      "C_ID_3d3dfdc692  5582      0.019174\n",
      "C_ID_0cd2ce025c  2912      0.010003\n",
      "C_ID_cc3d4cd4e3  2143      0.007361\n",
      "C_ID_5ccc07beb9  2066      0.007097\n",
      "C_ID_5ea401d358  1786      0.006135\n",
      "C_ID_6ae9f40da5  1665      0.005719\n",
      "C_ID_9f81506906  1665      0.005719\n",
      "C_ID_272aa0597a  1647      0.005657\n",
      "C_ID_9f63809b99  1634      0.005613\n",
      "C_ID_80c1c711c9  1593      0.005472\n",
      "C_ID_2524b5234d  1550      0.005324\n",
      "C_ID_f352d1be7e  1546      0.005310\n",
      "C_ID_0b84a29e2e  1517      0.005211\n",
      "C_ID_f085d75a85  1491      0.005122\n",
      "C_ID_66197df71f  1478      0.005077\n",
      "==============================\n",
      "object - category_1\n",
      "Number of unique values: 2\n",
      "Number of missing values: 0\n",
      "       Hist  Hist percent\n",
      "N  27028332     92.841429\n",
      "Y   2084029      7.158571\n",
      "==============================\n",
      "object - category_3\n",
      "Number of unique values: 3\n",
      "Number of missing values: 178159\n",
      "       Hist  Hist percent\n",
      "A  15411747     53.264808\n",
      "B  11677522     40.358887\n",
      "C   1844933      6.376305\n",
      "==============================\n",
      "object - merchant_id\n",
      "Number of unique values: 326311\n",
      "Number of missing values: 138481\n",
      "                    Hist  Hist percent\n",
      "M_ID_00a6ca8a8a  1115097      3.848628\n",
      "M_ID_e5374dabc0   428619      1.479329\n",
      "M_ID_9139332ccc   361385      1.247279\n",
      "M_ID_50f575c681   183894      0.634689\n",
      "M_ID_fc7d7969c3   177040      0.611033\n",
      "M_ID_5ba019a379   170935      0.589962\n",
      "M_ID_f86439cec0   110341      0.380829\n",
      "M_ID_1f4773aa76   106476      0.367490\n",
      "M_ID_86be58d7e0    97259      0.335678\n",
      "M_ID_98b342c0e3    93394      0.322339\n",
      "M_ID_d855771cd9    84377      0.291217\n",
      "M_ID_6f274b9340    81072      0.279811\n",
      "M_ID_cd2c0b07e9    80179      0.276729\n",
      "M_ID_57df19bf28    76750      0.264894\n",
      "M_ID_b9dcf28cb9    75487      0.260535\n",
      "==============================\n",
      "object - purchase_date\n",
      "Number of unique values: 16395300\n",
      "Number of missing values: 0\n",
      "                      Hist  Hist percent\n",
      "2017-11-24 00:00:00  26184      0.089941\n",
      "2017-11-25 00:00:00  26182      0.089934\n",
      "2017-11-18 00:00:00  24498      0.084150\n",
      "2017-11-30 00:00:00  24430      0.083916\n",
      "2017-11-17 00:00:00  23260      0.079897\n",
      "2017-11-14 00:00:00  21979      0.075497\n",
      "2017-11-23 00:00:00  21830      0.074985\n",
      "2017-11-29 00:00:00  21137      0.072605\n",
      "2017-11-16 00:00:00  20678      0.071028\n",
      "2017-11-22 00:00:00  20404      0.070087\n",
      "2017-11-28 00:00:00  20122      0.069118\n",
      "2017-11-21 00:00:00  19618      0.067387\n",
      "2017-11-03 00:00:00  19244      0.066103\n",
      "2017-11-27 00:00:00  19052      0.065443\n",
      "2017-10-28 00:00:00  18712      0.064275\n",
      "==============================\n"
     ]
    }
   ],
   "source": [
    "describe_variable('object')"
   ]
  },
  {
   "cell_type": "code",
   "execution_count": 22,
   "metadata": {
    "scrolled": false
   },
   "outputs": [
    {
     "data": {
      "image/png": "[encoded data removed]",
      "text/plain": [
       "<Figure size 720x720 with 1 Axes>"
      ]
     },
     "metadata": {
      "needs_background": "light"
     },
     "output_type": "display_data"
    },
    {
     "data": {
      "image/png": "[encoded data removed]",
      "text/plain": [
       "<Figure size 720x720 with 1 Axes>"
      ]
     },
     "metadata": {
      "needs_background": "light"
     },
     "output_type": "display_data"
    },
    {
     "data": {
      "image/png": "[encoded data removed]",
      "text/plain": [
       "<Figure size 720x720 with 1 Axes>"
      ]
     },
     "metadata": {
      "needs_background": "light"
     },
     "output_type": "display_data"
    },
    {
     "data": {
      "image/png": "[encoded data removed]",
      "text/plain": [
       "<Figure size 720x720 with 1 Axes>"
      ]
     },
     "metadata": {
      "needs_background": "light"
     },
     "output_type": "display_data"
    },
    {
     "data": {
      "image/png": "[encoded data removed]",
      "text/plain": [
       "<Figure size 720x720 with 1 Axes>"
      ]
     },
     "metadata": {
      "needs_background": "light"
     },
     "output_type": "display_data"
    },
    {
     "data": {
      "image/png": "[encoded data removed]",
      "text/plain": [
       "<Figure size 720x720 with 1 Axes>"
      ]
     },
     "metadata": {
      "needs_background": "light"
     },
     "output_type": "display_data"
    },
    {
     "data": {
      "image/png": "[encoded data removed]",
      "text/plain": [
       "<Figure size 720x720 with 1 Axes>"
      ]
     },
     "metadata": {
      "needs_background": "light"
     },
     "output_type": "display_data"
    },
    {
     "data": {
      "image/png": "[encoded data removed]",
      "text/plain": [
       "<Figure size 720x720 with 1 Axes>"
      ]
     },
     "metadata": {
      "needs_background": "light"
     },
     "output_type": "display_data"
    }
   ],
   "source": [
    "# Check for outliers\n",
    "def scatterplots(dataframe = hist):\n",
    "    for c in dataframe.columns:\n",
    "        if dataframe[c].dtype != 'object':\n",
    "            minval = min(dataframe[c])\n",
    "            maxval = max(dataframe[c])\n",
    "            fig, (ax1) = plt.subplots(nrows = 1, ncols = 1, sharey = True, figsize = (10, 10))\n",
    "            ax1.scatter(range(dataframe.shape[0]), np.sort(dataframe[c].values))\n",
    "            ax1.set_ylim([minval, maxval])\n",
    "            ax1.set_title('Hist')\n",
    "            ax1.set_xlabel('index', fontsize = 12)\n",
    "            ax1.set_ylabel(c, fontsize = 12)\n",
    "            fig.show\n",
    "\n",
    "## uncomment the next line for the scatter plots\n",
    "scatterplots(hist)"
   ]
  },
  {
   "cell_type": "markdown",
   "metadata": {},
   "source": [
    "## Correlation"
   ]
  },
  {
   "cell_type": "code",
   "execution_count": 23,
   "metadata": {},
   "outputs": [
    {
     "data": {
      "text/plain": [
       "<matplotlib.axes._subplots.AxesSubplot at 0x219c5923710>"
      ]
     },
     "execution_count": 23,
     "metadata": {},
     "output_type": "execute_result"
    },
    {
     "data": {
      "image/png": "[encoded data removed]",
      "text/plain": [
       "<Figure size 720x720 with 1 Axes>"
      ]
     },
     "metadata": {},
     "output_type": "display_data"
    }
   ],
   "source": [
    "corrmat = hist.corr()\n",
    "f, ax = plt.subplots(figsize=(10, 10))\n",
    "sns.heatmap(corrmat, vmax=.8, square=True,xticklabels=False,yticklabels=False,cbar=False)"
   ]
  },
  {
   "cell_type": "code",
   "execution_count": 25,
   "metadata": {},
   "outputs": [
    {
     "data": {
      "image/png": "[encoded data removed]",
      "text/plain": [
       "<Figure size 864x864 with 1 Axes>"
      ]
     },
     "metadata": {
      "needs_background": "light"
     },
     "output_type": "display_data"
    }
   ],
   "source": [
    "corrmat = hist.corr().round(decimals = 2)\n",
    "f, ax = plt.subplots(figsize = (12, 12))\n",
    "sns.heatmap(corrmat, vmax = .8, square=True,xticklabels=True,yticklabels=True,cbar=False,annot=True)\n",
    "sns.set(font_scale = 0.8)"
   ]
  },
  {
   "cell_type": "code",
   "execution_count": 27,
   "metadata": {},
   "outputs": [
    {
     "name": "stdout",
     "output_type": "stream",
     "text": [
      "(26459497, 8)\n"
     ]
    },
    {
     "name": "stderr",
     "output_type": "stream",
     "text": [
      "C:\\ProgramData\\Anaconda3\\lib\\site-packages\\ipykernel_launcher.py:7: FutureWarning: Method .as_matrix will be removed in a future version. Use .values instead.\n",
      "  import sys\n"
     ]
    },
    {
     "name": "stdout",
     "output_type": "stream",
     "text": [
      "1\n",
      "dropping  subsector_id  with vif:  6.05952284624\n"
     ]
    },
    {
     "name": "stderr",
     "output_type": "stream",
     "text": [
      "C:\\ProgramData\\Anaconda3\\lib\\site-packages\\ipykernel_launcher.py:17: FutureWarning: Method .as_matrix will be removed in a future version. Use .values instead.\n"
     ]
    },
    {
     "name": "stdout",
     "output_type": "stream",
     "text": [
      "Remaining variables:\n",
      "Index(['city_id', 'installments', 'merchant_category_id', 'month_lag',\n",
      "       'state_id', 'purchase_amount', 'category_2'],\n",
      "      dtype='object')\n"
     ]
    }
   ],
   "source": [
    "# Calculate the variable inflation factor for the numerical variables\n",
    "from statsmodels.stats.outliers_influence import variance_inflation_factor\n",
    "def find_multicollinearity(X, thresh = 5.0):\n",
    "    '''X - pandas dataframe'''\n",
    "    variables = list(X.columns)\n",
    "    #num_var = len(variables)\n",
    "    vif = [variance_inflation_factor(X.as_matrix(), ix) for ix in range(X.shape[1])]\n",
    "    columns_with_high_vif = []\n",
    "    i = 1\n",
    "    while max(vif) > thresh:\n",
    "        print(i)\n",
    "        maxloc = vif.index(max(vif))\n",
    "        print('dropping ', X.columns[maxloc], ' with vif: ', vif[maxloc])\n",
    "        columns_with_high_vif.append(X.columns[maxloc])\n",
    "        variables.pop(maxloc)\n",
    "        X = X[variables]\n",
    "        vif = [variance_inflation_factor(X.as_matrix(), ix) for ix in range(X.shape[1])]\n",
    "        i = i + 1\n",
    "    print('Remaining variables:')\n",
    "    print(X[variables].columns)\n",
    "    return X, columns_with_high_vif\n",
    "\n",
    "col_sel = hist.columns[hist.dtypes == 'int64'].append(hist.columns[hist.dtypes == 'float64'])\n",
    "X = hist[col_sel].dropna()\n",
    "print(X.shape)\n",
    "\n",
    "Y, columns_with_high_vif = find_multicollinearity(X)"
   ]
  },
  {
   "cell_type": "code",
   "execution_count": null,
   "metadata": {},
   "outputs": [],
   "source": []
  }
 ],
 "metadata": {
  "kernelspec": {
   "display_name": "Python 3",
   "language": "python",
   "name": "python3"
  },
  "language_info": {
   "codemirror_mode": {
    "name": "ipython",
    "version": 3
   },
   "file_extension": ".py",
   "mimetype": "text/x-python",
   "name": "python",
   "nbconvert_exporter": "python",
   "pygments_lexer": "ipython3",
   "version": "3.7.0"
  }
 },
 "nbformat": 4,
 "nbformat_minor": 2
}
