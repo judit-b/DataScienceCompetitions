{
 "cells": [
  {
   "cell_type": "markdown",
   "metadata": {},
   "source": [
    "# ELO MERCHANT CATEGORY RECOMMENDATION \n",
    "### COMPETITION ON KAGGLE\n",
    "## Data Transformations of new_merchant_transactions.csv\n",
    "### 1-1-2019"
   ]
  },
  {
   "cell_type": "code",
   "execution_count": 1,
   "metadata": {},
   "outputs": [],
   "source": [
    "## Variables specific for competition\n",
    "\n",
    "ID = 'card_id'                                            \n",
    "TARGET = 'target'    \n",
    "\n",
    "RAW_DIRECTORY = 'C:/Users/judit/Documents/learning/kaggle/Elo_201812/rawdata/'  \n",
    "DIRECTORY = 'C:/Users/judit/Documents/learning/kaggle/Elo_201812/data/'\n",
    "HIST_TRANS_FILE = RAW_DIRECTORY + 'historical_transactions.csv'\n",
    "MERCHANTS_FILE = RAW_DIRECTORY + 'merchants.csv'\n",
    "NEW_MERCH_TRANS_FILE = RAW_DIRECTORY + 'new_merchant_transactions.csv'\n",
    "TRAIN_FILE = RAW_DIRECTORY + 'train.csv'    \n",
    "TEST_FILE = RAW_DIRECTORY +'test.csv'\n",
    "SAMPLE_SUBMISSION_FILE = RAW_DIRECTORY + 'sample_submission.csv'\n",
    "\n",
    "REF_DATES_FILE = DIRECTORY + 'ref_dates.pkl'"
   ]
  },
  {
   "cell_type": "code",
   "execution_count": 2,
   "metadata": {},
   "outputs": [],
   "source": [
    "import pandas as pd\n",
    "import numpy as np\n",
    "import matplotlib.pyplot as plt\n",
    "%matplotlib inline\n",
    "import seaborn as sns\n",
    "import random\n",
    "#import missingno\n",
    "import pickle\n",
    "\n",
    "random.seed(1)"
   ]
  },
  {
   "cell_type": "code",
   "execution_count": 3,
   "metadata": {},
   "outputs": [],
   "source": [
    "def reduce_mem_usage(df, verbose = True):\n",
    "    numerics = ['int16', 'int32', 'int64', 'float16', 'float32', 'float64']\n",
    "    start_mem = df.memory_usage().sum() / 1024**2\n",
    "    if verbose: print('Starting memory usage: {:5.2f} MB'.format(start_mem))\n",
    "\n",
    "    for col in df.columns:\n",
    "        col_type = df[col].dtypes\n",
    "        if col_type in numerics:\n",
    "            c_min = df[col].min()\n",
    "            c_max = df[col].max()\n",
    "            if str(col_type)[:3] == 'int':\n",
    "                if c_min > np.iinfo(np.int8).min and c_max < np.iinfo(np.int8).max:\n",
    "                    df[col] = df[col].astype(np.int8)\n",
    "                elif c_min > np.iinfo(np.int16).min and c_max < np.iinfo(np.int16).max:\n",
    "                    df[col] = df[col].astype(np.int16)\n",
    "                elif c_min > np.iinfo(np.int32).min and c_max < np.iinfo(np.int32).max:\n",
    "                    df[col] = df[col].astype(np.int32)\n",
    "                elif c_min > np.iinfo(np.int64).min and c_max < np.iinfo(np.int64).max:\n",
    "                    df[col] = df[col].astype(np.int64)  \n",
    "            else:\n",
    "                if c_min > np.finfo(np.float16).min and c_max < np.finfo(np.float16).max:\n",
    "                    df[col] = df[col].astype(np.float16)\n",
    "                elif c_min > np.finfo(np.float32).min and c_max < np.finfo(np.float32).max:\n",
    "                    df[col] = df[col].astype(np.float32)\n",
    "                else:\n",
    "                    df[col] = df[col].astype(np.float64)    \n",
    "    end_mem = df.memory_usage().sum() / 1024**2\n",
    "    if verbose: print('Reduced memory usage: {:5.2f} MB ({:.1f}% reduction)'.format(end_mem, 100 * (start_mem - end_mem\\\n",
    "                                                                                                   ) / start_mem))\n",
    "    return df\n",
    "\n",
    "def create_date_features(df, source_column = 'purchase_date', preposition_of_new = 'purchase'):\n",
    "    df[preposition_of_new + '_year'] = df[source_column].dt.year\n",
    "    df[preposition_of_new + '_month'] = df[source_column].dt.month\n",
    "    df[preposition_of_new + '_day'] = df[source_column].dt.day\n",
    "    df[preposition_of_new + '_hour'] = df[source_column].dt.hour\n",
    "    df[preposition_of_new + '_weekofyear'] = df[source_column].dt.weekofyear\n",
    "    df[preposition_of_new + '_dayofweek'] = df[source_column].dt.dayofweek\n",
    "    df[preposition_of_new + '_quarter'] = df[source_column].dt.quarter\n",
    "    \n",
    "    return df"
   ]
  },
  {
   "cell_type": "code",
   "execution_count": 4,
   "metadata": {},
   "outputs": [
    {
     "data": {
      "text/html": [
       "<div>\n",
       "<style scoped>\n",
       "    .dataframe tbody tr th:only-of-type {\n",
       "        vertical-align: middle;\n",
       "    }\n",
       "\n",
       "    .dataframe tbody tr th {\n",
       "        vertical-align: top;\n",
       "    }\n",
       "\n",
       "    .dataframe thead th {\n",
       "        text-align: right;\n",
       "    }\n",
       "</style>\n",
       "<table border=\"1\" class=\"dataframe\">\n",
       "  <thead>\n",
       "    <tr style=\"text-align: right;\">\n",
       "      <th></th>\n",
       "      <th>authorized_flag</th>\n",
       "      <th>card_id</th>\n",
       "      <th>city_id</th>\n",
       "      <th>category_1</th>\n",
       "      <th>installments</th>\n",
       "      <th>category_3</th>\n",
       "      <th>merchant_category_id</th>\n",
       "      <th>merchant_id</th>\n",
       "      <th>month_lag</th>\n",
       "      <th>purchase_amount</th>\n",
       "      <th>purchase_date</th>\n",
       "      <th>category_2</th>\n",
       "      <th>state_id</th>\n",
       "      <th>subsector_id</th>\n",
       "    </tr>\n",
       "  </thead>\n",
       "  <tbody>\n",
       "    <tr>\n",
       "      <th>0</th>\n",
       "      <td>Y</td>\n",
       "      <td>C_ID_415bb3a509</td>\n",
       "      <td>107</td>\n",
       "      <td>N</td>\n",
       "      <td>1</td>\n",
       "      <td>B</td>\n",
       "      <td>307</td>\n",
       "      <td>M_ID_b0c793002c</td>\n",
       "      <td>1</td>\n",
       "      <td>-0.557574</td>\n",
       "      <td>2018-03-11 14:57:36</td>\n",
       "      <td>1.0</td>\n",
       "      <td>9</td>\n",
       "      <td>19</td>\n",
       "    </tr>\n",
       "    <tr>\n",
       "      <th>1</th>\n",
       "      <td>Y</td>\n",
       "      <td>C_ID_415bb3a509</td>\n",
       "      <td>140</td>\n",
       "      <td>N</td>\n",
       "      <td>1</td>\n",
       "      <td>B</td>\n",
       "      <td>307</td>\n",
       "      <td>M_ID_88920c89e8</td>\n",
       "      <td>1</td>\n",
       "      <td>-0.569580</td>\n",
       "      <td>2018-03-19 18:53:37</td>\n",
       "      <td>1.0</td>\n",
       "      <td>9</td>\n",
       "      <td>19</td>\n",
       "    </tr>\n",
       "    <tr>\n",
       "      <th>2</th>\n",
       "      <td>Y</td>\n",
       "      <td>C_ID_415bb3a509</td>\n",
       "      <td>330</td>\n",
       "      <td>N</td>\n",
       "      <td>1</td>\n",
       "      <td>B</td>\n",
       "      <td>507</td>\n",
       "      <td>M_ID_ad5237ef6b</td>\n",
       "      <td>2</td>\n",
       "      <td>-0.551037</td>\n",
       "      <td>2018-04-26 14:08:44</td>\n",
       "      <td>1.0</td>\n",
       "      <td>9</td>\n",
       "      <td>14</td>\n",
       "    </tr>\n",
       "    <tr>\n",
       "      <th>3</th>\n",
       "      <td>Y</td>\n",
       "      <td>C_ID_415bb3a509</td>\n",
       "      <td>-1</td>\n",
       "      <td>Y</td>\n",
       "      <td>1</td>\n",
       "      <td>B</td>\n",
       "      <td>661</td>\n",
       "      <td>M_ID_9e84cda3b1</td>\n",
       "      <td>1</td>\n",
       "      <td>-0.671925</td>\n",
       "      <td>2018-03-07 09:43:21</td>\n",
       "      <td>NaN</td>\n",
       "      <td>-1</td>\n",
       "      <td>8</td>\n",
       "    </tr>\n",
       "    <tr>\n",
       "      <th>4</th>\n",
       "      <td>Y</td>\n",
       "      <td>C_ID_ef55cf8d4b</td>\n",
       "      <td>-1</td>\n",
       "      <td>Y</td>\n",
       "      <td>1</td>\n",
       "      <td>B</td>\n",
       "      <td>166</td>\n",
       "      <td>M_ID_3c86fa3831</td>\n",
       "      <td>1</td>\n",
       "      <td>-0.659904</td>\n",
       "      <td>2018-03-22 21:07:53</td>\n",
       "      <td>NaN</td>\n",
       "      <td>-1</td>\n",
       "      <td>29</td>\n",
       "    </tr>\n",
       "  </tbody>\n",
       "</table>\n",
       "</div>"
      ],
      "text/plain": [
       "  authorized_flag          card_id  city_id category_1  installments  \\\n",
       "0               Y  C_ID_415bb3a509      107          N             1   \n",
       "1               Y  C_ID_415bb3a509      140          N             1   \n",
       "2               Y  C_ID_415bb3a509      330          N             1   \n",
       "3               Y  C_ID_415bb3a509       -1          Y             1   \n",
       "4               Y  C_ID_ef55cf8d4b       -1          Y             1   \n",
       "\n",
       "  category_3  merchant_category_id      merchant_id  month_lag  \\\n",
       "0          B                   307  M_ID_b0c793002c          1   \n",
       "1          B                   307  M_ID_88920c89e8          1   \n",
       "2          B                   507  M_ID_ad5237ef6b          2   \n",
       "3          B                   661  M_ID_9e84cda3b1          1   \n",
       "4          B                   166  M_ID_3c86fa3831          1   \n",
       "\n",
       "   purchase_amount       purchase_date  category_2  state_id  subsector_id  \n",
       "0        -0.557574 2018-03-11 14:57:36         1.0         9            19  \n",
       "1        -0.569580 2018-03-19 18:53:37         1.0         9            19  \n",
       "2        -0.551037 2018-04-26 14:08:44         1.0         9            14  \n",
       "3        -0.671925 2018-03-07 09:43:21         NaN        -1             8  \n",
       "4        -0.659904 2018-03-22 21:07:53         NaN        -1            29  "
      ]
     },
     "execution_count": 4,
     "metadata": {},
     "output_type": "execute_result"
    }
   ],
   "source": [
    "hist = pd.read_csv(NEW_MERCH_TRANS_FILE, parse_dates=[\"purchase_date\"])\n",
    "hist.head()"
   ]
  },
  {
   "cell_type": "code",
   "execution_count": 5,
   "metadata": {},
   "outputs": [
    {
     "data": {
      "text/plain": [
       "(1963031, 14)"
      ]
     },
     "execution_count": 5,
     "metadata": {},
     "output_type": "execute_result"
    }
   ],
   "source": [
    "hist.shape"
   ]
  },
  {
   "cell_type": "code",
   "execution_count": 6,
   "metadata": {},
   "outputs": [
    {
     "data": {
      "text/plain": [
       "array(['Y'], dtype=object)"
      ]
     },
     "execution_count": 6,
     "metadata": {},
     "output_type": "execute_result"
    }
   ],
   "source": [
    "hist['authorized_flag'].unique()"
   ]
  },
  {
   "cell_type": "code",
   "execution_count": 7,
   "metadata": {},
   "outputs": [
    {
     "data": {
      "text/plain": [
       "(0, 14)"
      ]
     },
     "execution_count": 7,
     "metadata": {},
     "output_type": "execute_result"
    }
   ],
   "source": [
    "hist[hist['authorized_flag'].isnull()].shape"
   ]
  },
  {
   "cell_type": "markdown",
   "metadata": {},
   "source": [
    "The new_merchants_transactions.csv includes only authorized transactions!!!"
   ]
  },
  {
   "cell_type": "code",
   "execution_count": 8,
   "metadata": {},
   "outputs": [],
   "source": [
    "hist['authorized_flag'] = hist['authorized_flag'].apply(lambda x : 1 if x == 'Y' else 0)"
   ]
  },
  {
   "cell_type": "code",
   "execution_count": 9,
   "metadata": {},
   "outputs": [
    {
     "data": {
      "text/plain": [
       "(0, 14)"
      ]
     },
     "execution_count": 9,
     "metadata": {},
     "output_type": "execute_result"
    }
   ],
   "source": [
    "hist[hist['card_id'].isnull()].shape"
   ]
  },
  {
   "cell_type": "code",
   "execution_count": 10,
   "metadata": {},
   "outputs": [
    {
     "data": {
      "text/html": [
       "<div>\n",
       "<style scoped>\n",
       "    .dataframe tbody tr th:only-of-type {\n",
       "        vertical-align: middle;\n",
       "    }\n",
       "\n",
       "    .dataframe tbody tr th {\n",
       "        vertical-align: top;\n",
       "    }\n",
       "\n",
       "    .dataframe thead th {\n",
       "        text-align: right;\n",
       "    }\n",
       "</style>\n",
       "<table border=\"1\" class=\"dataframe\">\n",
       "  <thead>\n",
       "    <tr style=\"text-align: right;\">\n",
       "      <th></th>\n",
       "      <th>authorized_flag</th>\n",
       "      <th>card_id</th>\n",
       "      <th>city_id</th>\n",
       "      <th>category_1</th>\n",
       "      <th>installments</th>\n",
       "      <th>category_3</th>\n",
       "      <th>merchant_category_id</th>\n",
       "      <th>merchant_id</th>\n",
       "      <th>month_lag</th>\n",
       "      <th>purchase_amount</th>\n",
       "      <th>purchase_date</th>\n",
       "      <th>category_2</th>\n",
       "      <th>state_id</th>\n",
       "      <th>subsector_id</th>\n",
       "    </tr>\n",
       "  </thead>\n",
       "  <tbody>\n",
       "    <tr>\n",
       "      <th>0</th>\n",
       "      <td>1</td>\n",
       "      <td>280711374089</td>\n",
       "      <td>107</td>\n",
       "      <td>N</td>\n",
       "      <td>1</td>\n",
       "      <td>B</td>\n",
       "      <td>307</td>\n",
       "      <td>M_ID_b0c793002c</td>\n",
       "      <td>1</td>\n",
       "      <td>-0.557574</td>\n",
       "      <td>2018-03-11 14:57:36</td>\n",
       "      <td>1.0</td>\n",
       "      <td>9</td>\n",
       "      <td>19</td>\n",
       "    </tr>\n",
       "    <tr>\n",
       "      <th>1</th>\n",
       "      <td>1</td>\n",
       "      <td>280711374089</td>\n",
       "      <td>140</td>\n",
       "      <td>N</td>\n",
       "      <td>1</td>\n",
       "      <td>B</td>\n",
       "      <td>307</td>\n",
       "      <td>M_ID_88920c89e8</td>\n",
       "      <td>1</td>\n",
       "      <td>-0.569580</td>\n",
       "      <td>2018-03-19 18:53:37</td>\n",
       "      <td>1.0</td>\n",
       "      <td>9</td>\n",
       "      <td>19</td>\n",
       "    </tr>\n",
       "    <tr>\n",
       "      <th>2</th>\n",
       "      <td>1</td>\n",
       "      <td>280711374089</td>\n",
       "      <td>330</td>\n",
       "      <td>N</td>\n",
       "      <td>1</td>\n",
       "      <td>B</td>\n",
       "      <td>507</td>\n",
       "      <td>M_ID_ad5237ef6b</td>\n",
       "      <td>2</td>\n",
       "      <td>-0.551037</td>\n",
       "      <td>2018-04-26 14:08:44</td>\n",
       "      <td>1.0</td>\n",
       "      <td>9</td>\n",
       "      <td>14</td>\n",
       "    </tr>\n",
       "    <tr>\n",
       "      <th>3</th>\n",
       "      <td>1</td>\n",
       "      <td>280711374089</td>\n",
       "      <td>-1</td>\n",
       "      <td>Y</td>\n",
       "      <td>1</td>\n",
       "      <td>B</td>\n",
       "      <td>661</td>\n",
       "      <td>M_ID_9e84cda3b1</td>\n",
       "      <td>1</td>\n",
       "      <td>-0.671925</td>\n",
       "      <td>2018-03-07 09:43:21</td>\n",
       "      <td>NaN</td>\n",
       "      <td>-1</td>\n",
       "      <td>8</td>\n",
       "    </tr>\n",
       "    <tr>\n",
       "      <th>4</th>\n",
       "      <td>1</td>\n",
       "      <td>1027936849227</td>\n",
       "      <td>-1</td>\n",
       "      <td>Y</td>\n",
       "      <td>1</td>\n",
       "      <td>B</td>\n",
       "      <td>166</td>\n",
       "      <td>M_ID_3c86fa3831</td>\n",
       "      <td>1</td>\n",
       "      <td>-0.659904</td>\n",
       "      <td>2018-03-22 21:07:53</td>\n",
       "      <td>NaN</td>\n",
       "      <td>-1</td>\n",
       "      <td>29</td>\n",
       "    </tr>\n",
       "  </tbody>\n",
       "</table>\n",
       "</div>"
      ],
      "text/plain": [
       "   authorized_flag        card_id  city_id category_1  installments  \\\n",
       "0                1   280711374089      107          N             1   \n",
       "1                1   280711374089      140          N             1   \n",
       "2                1   280711374089      330          N             1   \n",
       "3                1   280711374089       -1          Y             1   \n",
       "4                1  1027936849227       -1          Y             1   \n",
       "\n",
       "  category_3  merchant_category_id      merchant_id  month_lag  \\\n",
       "0          B                   307  M_ID_b0c793002c          1   \n",
       "1          B                   307  M_ID_88920c89e8          1   \n",
       "2          B                   507  M_ID_ad5237ef6b          2   \n",
       "3          B                   661  M_ID_9e84cda3b1          1   \n",
       "4          B                   166  M_ID_3c86fa3831          1   \n",
       "\n",
       "   purchase_amount       purchase_date  category_2  state_id  subsector_id  \n",
       "0        -0.557574 2018-03-11 14:57:36         1.0         9            19  \n",
       "1        -0.569580 2018-03-19 18:53:37         1.0         9            19  \n",
       "2        -0.551037 2018-04-26 14:08:44         1.0         9            14  \n",
       "3        -0.671925 2018-03-07 09:43:21         NaN        -1             8  \n",
       "4        -0.659904 2018-03-22 21:07:53         NaN        -1            29  "
      ]
     },
     "execution_count": 10,
     "metadata": {},
     "output_type": "execute_result"
    }
   ],
   "source": [
    "# card_id is a hexadecimal number. Convert it into decimal.\n",
    "hist['card_id'] = hist['card_id'].apply(lambda s : int(s[5:], 16))\n",
    "hist.head()"
   ]
  },
  {
   "cell_type": "code",
   "execution_count": 11,
   "metadata": {},
   "outputs": [
    {
     "data": {
      "text/plain": [
       "((0, 14), -1, 347)"
      ]
     },
     "execution_count": 11,
     "metadata": {},
     "output_type": "execute_result"
    }
   ],
   "source": [
    "hist[hist['city_id'].isnull()].shape, hist['city_id'].min(), hist['city_id'].max()"
   ]
  },
  {
   "cell_type": "code",
   "execution_count": 12,
   "metadata": {},
   "outputs": [],
   "source": [
    "hist['city_id'] = hist['city_id'].apply(lambda x : np.nan if x == -1 else x)"
   ]
  },
  {
   "cell_type": "code",
   "execution_count": 13,
   "metadata": {},
   "outputs": [
    {
     "data": {
      "text/plain": [
       "array(['N', 'Y'], dtype=object)"
      ]
     },
     "execution_count": 13,
     "metadata": {},
     "output_type": "execute_result"
    }
   ],
   "source": [
    "hist['category_1'].unique()"
   ]
  },
  {
   "cell_type": "code",
   "execution_count": 14,
   "metadata": {},
   "outputs": [
    {
     "data": {
      "text/plain": [
       "((63096, 14), (1899935, 14))"
      ]
     },
     "execution_count": 14,
     "metadata": {},
     "output_type": "execute_result"
    }
   ],
   "source": [
    "hist[hist['category_1'] == 'Y'].shape, hist[hist['category_1'] == 'N'].shape"
   ]
  },
  {
   "cell_type": "code",
   "execution_count": 15,
   "metadata": {},
   "outputs": [
    {
     "data": {
      "text/plain": [
       "(0, 14)"
      ]
     },
     "execution_count": 15,
     "metadata": {},
     "output_type": "execute_result"
    }
   ],
   "source": [
    "hist[hist['category_1'].isnull()].shape"
   ]
  },
  {
   "cell_type": "code",
   "execution_count": 16,
   "metadata": {},
   "outputs": [],
   "source": [
    "hist['category_1'] = hist['category_1'].apply(lambda x : 1 if x == 'Y' else 0)"
   ]
  },
  {
   "cell_type": "code",
   "execution_count": 17,
   "metadata": {},
   "outputs": [
    {
     "data": {
      "text/plain": [
       "(0, 14)"
      ]
     },
     "execution_count": 17,
     "metadata": {},
     "output_type": "execute_result"
    }
   ],
   "source": [
    "hist[hist['installments'].isnull()].shape"
   ]
  },
  {
   "cell_type": "code",
   "execution_count": 18,
   "metadata": {},
   "outputs": [
    {
     "data": {
      "text/plain": [
       "count    1.963031e+06\n",
       "mean     6.829643e-01\n",
       "std      1.584069e+00\n",
       "min     -1.000000e+00\n",
       "25%      0.000000e+00\n",
       "50%      1.000000e+00\n",
       "75%      1.000000e+00\n",
       "max      9.990000e+02\n",
       "Name: installments, dtype: float64"
      ]
     },
     "execution_count": 18,
     "metadata": {},
     "output_type": "execute_result"
    }
   ],
   "source": [
    "hist['installments'].describe()"
   ]
  },
  {
   "cell_type": "code",
   "execution_count": 19,
   "metadata": {},
   "outputs": [
    {
     "data": {
      "text/plain": [
       "count    1.963029e+06\n",
       "mean     6.819471e-01\n",
       "std      1.222239e+00\n",
       "min     -1.000000e+00\n",
       "25%      0.000000e+00\n",
       "50%      1.000000e+00\n",
       "75%      1.000000e+00\n",
       "max      1.200000e+01\n",
       "Name: installments, dtype: float64"
      ]
     },
     "execution_count": 19,
     "metadata": {},
     "output_type": "execute_result"
    }
   ],
   "source": [
    "hist.loc[hist['installments'] < 999, 'installments'].describe()"
   ]
  },
  {
   "cell_type": "code",
   "execution_count": 20,
   "metadata": {},
   "outputs": [
    {
     "data": {
      "text/plain": [
       "(2, 14)"
      ]
     },
     "execution_count": 20,
     "metadata": {},
     "output_type": "execute_result"
    }
   ],
   "source": [
    "hist[hist['installments'] == 999].shape"
   ]
  },
  {
   "cell_type": "code",
   "execution_count": 21,
   "metadata": {},
   "outputs": [
    {
     "data": {
      "text/plain": [
       "(55922, 14)"
      ]
     },
     "execution_count": 21,
     "metadata": {},
     "output_type": "execute_result"
    }
   ],
   "source": [
    "hist[hist['installments'] == -1].shape"
   ]
  },
  {
   "cell_type": "code",
   "execution_count": 22,
   "metadata": {},
   "outputs": [
    {
     "data": {
      "text/plain": [
       "array(['B', nan, 'C', 'A'], dtype=object)"
      ]
     },
     "execution_count": 22,
     "metadata": {},
     "output_type": "execute_result"
    }
   ],
   "source": [
    "hist['category_3'].unique()"
   ]
  },
  {
   "cell_type": "code",
   "execution_count": 23,
   "metadata": {},
   "outputs": [
    {
     "data": {
      "text/plain": [
       "(55922, 14)"
      ]
     },
     "execution_count": 23,
     "metadata": {},
     "output_type": "execute_result"
    }
   ],
   "source": [
    "hist[hist['category_3'].isnull()].shape"
   ]
  },
  {
   "cell_type": "code",
   "execution_count": 24,
   "metadata": {},
   "outputs": [
    {
     "data": {
      "text/plain": [
       "array([-1], dtype=int64)"
      ]
     },
     "execution_count": 24,
     "metadata": {},
     "output_type": "execute_result"
    }
   ],
   "source": [
    "hist.loc[hist['category_3'].isnull(), 'installments'].unique()"
   ]
  },
  {
   "cell_type": "code",
   "execution_count": 25,
   "metadata": {},
   "outputs": [
    {
     "data": {
      "text/plain": [
       "array([0], dtype=int64)"
      ]
     },
     "execution_count": 25,
     "metadata": {},
     "output_type": "execute_result"
    }
   ],
   "source": [
    "hist.loc[hist['category_3'] == 'A', 'installments'].unique()"
   ]
  },
  {
   "cell_type": "code",
   "execution_count": 26,
   "metadata": {},
   "outputs": [
    {
     "data": {
      "text/plain": [
       "array([1], dtype=int64)"
      ]
     },
     "execution_count": 26,
     "metadata": {},
     "output_type": "execute_result"
    }
   ],
   "source": [
    "hist.loc[hist['category_3'] == 'B', 'installments'].unique()"
   ]
  },
  {
   "cell_type": "code",
   "execution_count": 27,
   "metadata": {},
   "outputs": [
    {
     "data": {
      "text/plain": [
       "array([  3,   2,  12,   6,   4,  10,   5,   9,   8,   7,  11, 999], dtype=int64)"
      ]
     },
     "execution_count": 27,
     "metadata": {},
     "output_type": "execute_result"
    }
   ],
   "source": [
    "hist.loc[hist['category_3'] == 'C', 'installments'].unique()"
   ]
  },
  {
   "cell_type": "code",
   "execution_count": 28,
   "metadata": {},
   "outputs": [
    {
     "data": {
      "text/plain": [
       "((922244, 14), (836178, 14), (148687, 14))"
      ]
     },
     "execution_count": 28,
     "metadata": {},
     "output_type": "execute_result"
    }
   ],
   "source": [
    "hist[hist['category_3'] == 'A'].shape, hist[hist['category_3'] == 'B'].shape, hist[hist['category_3'] == 'C'].shape"
   ]
  },
  {
   "cell_type": "code",
   "execution_count": 29,
   "metadata": {},
   "outputs": [
    {
     "data": {
      "text/plain": [
       "(140197, 139142, 81261, 40708)"
      ]
     },
     "execution_count": 29,
     "metadata": {},
     "output_type": "execute_result"
    }
   ],
   "source": [
    "hist.loc[hist['category_3'] == 'A', 'card_id'].nunique(), hist.loc[hist['category_3'] == 'B', 'card_id'].nunique(),\\\n",
    "hist.loc[hist['category_3'] == 'C', 'card_id'].nunique(), hist.loc[hist['category_3'].isnull(), 'card_id'].nunique()"
   ]
  },
  {
   "cell_type": "code",
   "execution_count": 30,
   "metadata": {},
   "outputs": [
    {
     "data": {
      "text/plain": [
       "290001"
      ]
     },
     "execution_count": 30,
     "metadata": {},
     "output_type": "execute_result"
    }
   ],
   "source": [
    "hist['card_id'].nunique()"
   ]
  },
  {
   "cell_type": "code",
   "execution_count": 31,
   "metadata": {},
   "outputs": [
    {
     "data": {
      "text/plain": [
       "401308"
      ]
     },
     "execution_count": 31,
     "metadata": {},
     "output_type": "execute_result"
    }
   ],
   "source": [
    "hist.loc[hist['category_3'] == 'A', 'card_id'].nunique() + hist.loc[hist['category_3'] == 'B', 'card_id'].nunique() +\\\n",
    "hist.loc[hist['category_3'] == 'C', 'card_id'].nunique() + hist.loc[hist['category_3'].isnull(), 'card_id'].nunique()"
   ]
  },
  {
   "cell_type": "markdown",
   "metadata": {},
   "source": [
    "For the same card_id, different values of category_3 can be found."
   ]
  },
  {
   "cell_type": "code",
   "execution_count": 32,
   "metadata": {},
   "outputs": [
    {
     "data": {
      "text/plain": [
       "((55924, 14), (0, 14), (0, 14))"
      ]
     },
     "execution_count": 32,
     "metadata": {},
     "output_type": "execute_result"
    }
   ],
   "source": [
    "# Valeria Elo said that both 999 and -1 refer to missing values \n",
    "# (https://www.kaggle.com/c/elo-merchant-category-recommendation/discussion/72993)\n",
    "hist['installments'] = hist['installments'].apply(lambda x : np.nan if x == -1 else np.nan if x == 999 else x)\n",
    "hist[hist['installments'].isnull()].shape, hist[hist['installments'] == -1].shape, hist[hist['installments'] == 999].shape"
   ]
  },
  {
   "cell_type": "code",
   "execution_count": 33,
   "metadata": {},
   "outputs": [
    {
     "data": {
      "text/html": [
       "<div>\n",
       "<style scoped>\n",
       "    .dataframe tbody tr th:only-of-type {\n",
       "        vertical-align: middle;\n",
       "    }\n",
       "\n",
       "    .dataframe tbody tr th {\n",
       "        vertical-align: top;\n",
       "    }\n",
       "\n",
       "    .dataframe thead th {\n",
       "        text-align: right;\n",
       "    }\n",
       "</style>\n",
       "<table border=\"1\" class=\"dataframe\">\n",
       "  <thead>\n",
       "    <tr style=\"text-align: right;\">\n",
       "      <th></th>\n",
       "      <th>authorized_flag</th>\n",
       "      <th>card_id</th>\n",
       "      <th>city_id</th>\n",
       "      <th>category_1</th>\n",
       "      <th>installments</th>\n",
       "      <th>category_3</th>\n",
       "      <th>merchant_category_id</th>\n",
       "      <th>merchant_id</th>\n",
       "      <th>month_lag</th>\n",
       "      <th>purchase_amount</th>\n",
       "      <th>purchase_date</th>\n",
       "      <th>category_2</th>\n",
       "      <th>state_id</th>\n",
       "      <th>subsector_id</th>\n",
       "    </tr>\n",
       "  </thead>\n",
       "  <tbody>\n",
       "    <tr>\n",
       "      <th>0</th>\n",
       "      <td>1</td>\n",
       "      <td>280711374089</td>\n",
       "      <td>107.0</td>\n",
       "      <td>0</td>\n",
       "      <td>1.0</td>\n",
       "      <td>1.0</td>\n",
       "      <td>307</td>\n",
       "      <td>M_ID_b0c793002c</td>\n",
       "      <td>1</td>\n",
       "      <td>-0.557574</td>\n",
       "      <td>2018-03-11 14:57:36</td>\n",
       "      <td>1.0</td>\n",
       "      <td>9</td>\n",
       "      <td>19</td>\n",
       "    </tr>\n",
       "    <tr>\n",
       "      <th>1</th>\n",
       "      <td>1</td>\n",
       "      <td>280711374089</td>\n",
       "      <td>140.0</td>\n",
       "      <td>0</td>\n",
       "      <td>1.0</td>\n",
       "      <td>1.0</td>\n",
       "      <td>307</td>\n",
       "      <td>M_ID_88920c89e8</td>\n",
       "      <td>1</td>\n",
       "      <td>-0.569580</td>\n",
       "      <td>2018-03-19 18:53:37</td>\n",
       "      <td>1.0</td>\n",
       "      <td>9</td>\n",
       "      <td>19</td>\n",
       "    </tr>\n",
       "    <tr>\n",
       "      <th>2</th>\n",
       "      <td>1</td>\n",
       "      <td>280711374089</td>\n",
       "      <td>330.0</td>\n",
       "      <td>0</td>\n",
       "      <td>1.0</td>\n",
       "      <td>1.0</td>\n",
       "      <td>507</td>\n",
       "      <td>M_ID_ad5237ef6b</td>\n",
       "      <td>2</td>\n",
       "      <td>-0.551037</td>\n",
       "      <td>2018-04-26 14:08:44</td>\n",
       "      <td>1.0</td>\n",
       "      <td>9</td>\n",
       "      <td>14</td>\n",
       "    </tr>\n",
       "    <tr>\n",
       "      <th>3</th>\n",
       "      <td>1</td>\n",
       "      <td>280711374089</td>\n",
       "      <td>NaN</td>\n",
       "      <td>1</td>\n",
       "      <td>1.0</td>\n",
       "      <td>1.0</td>\n",
       "      <td>661</td>\n",
       "      <td>M_ID_9e84cda3b1</td>\n",
       "      <td>1</td>\n",
       "      <td>-0.671925</td>\n",
       "      <td>2018-03-07 09:43:21</td>\n",
       "      <td>NaN</td>\n",
       "      <td>-1</td>\n",
       "      <td>8</td>\n",
       "    </tr>\n",
       "    <tr>\n",
       "      <th>4</th>\n",
       "      <td>1</td>\n",
       "      <td>1027936849227</td>\n",
       "      <td>NaN</td>\n",
       "      <td>1</td>\n",
       "      <td>1.0</td>\n",
       "      <td>1.0</td>\n",
       "      <td>166</td>\n",
       "      <td>M_ID_3c86fa3831</td>\n",
       "      <td>1</td>\n",
       "      <td>-0.659904</td>\n",
       "      <td>2018-03-22 21:07:53</td>\n",
       "      <td>NaN</td>\n",
       "      <td>-1</td>\n",
       "      <td>29</td>\n",
       "    </tr>\n",
       "  </tbody>\n",
       "</table>\n",
       "</div>"
      ],
      "text/plain": [
       "   authorized_flag        card_id  city_id  category_1  installments  \\\n",
       "0                1   280711374089    107.0           0           1.0   \n",
       "1                1   280711374089    140.0           0           1.0   \n",
       "2                1   280711374089    330.0           0           1.0   \n",
       "3                1   280711374089      NaN           1           1.0   \n",
       "4                1  1027936849227      NaN           1           1.0   \n",
       "\n",
       "   category_3  merchant_category_id      merchant_id  month_lag  \\\n",
       "0         1.0                   307  M_ID_b0c793002c          1   \n",
       "1         1.0                   307  M_ID_88920c89e8          1   \n",
       "2         1.0                   507  M_ID_ad5237ef6b          2   \n",
       "3         1.0                   661  M_ID_9e84cda3b1          1   \n",
       "4         1.0                   166  M_ID_3c86fa3831          1   \n",
       "\n",
       "   purchase_amount       purchase_date  category_2  state_id  subsector_id  \n",
       "0        -0.557574 2018-03-11 14:57:36         1.0         9            19  \n",
       "1        -0.569580 2018-03-19 18:53:37         1.0         9            19  \n",
       "2        -0.551037 2018-04-26 14:08:44         1.0         9            14  \n",
       "3        -0.671925 2018-03-07 09:43:21         NaN        -1             8  \n",
       "4        -0.659904 2018-03-22 21:07:53         NaN        -1            29  "
      ]
     },
     "execution_count": 33,
     "metadata": {},
     "output_type": "execute_result"
    }
   ],
   "source": [
    "hist['category_3'] = hist['category_3'].apply(lambda s : 0 if s == 'A' else 1 if s == 'B' else 2 if s == 'C' else np.nan)\n",
    "hist.head()"
   ]
  },
  {
   "cell_type": "code",
   "execution_count": 34,
   "metadata": {},
   "outputs": [
    {
     "data": {
      "text/plain": [
       "(0, 14)"
      ]
     },
     "execution_count": 34,
     "metadata": {},
     "output_type": "execute_result"
    }
   ],
   "source": [
    "hist[hist['merchant_category_id'].isnull()].shape"
   ]
  },
  {
   "cell_type": "code",
   "execution_count": 35,
   "metadata": {},
   "outputs": [
    {
     "data": {
      "text/plain": [
       "(314, -1, 891)"
      ]
     },
     "execution_count": 35,
     "metadata": {},
     "output_type": "execute_result"
    }
   ],
   "source": [
    "hist['merchant_category_id'].nunique(), hist['merchant_category_id'].min(), hist['merchant_category_id'].max()"
   ]
  },
  {
   "cell_type": "code",
   "execution_count": 36,
   "metadata": {},
   "outputs": [],
   "source": [
    "hist['merchant_category_id'] = hist['merchant_category_id'].apply(lambda x : np.nan if x == -1 else x)"
   ]
  },
  {
   "cell_type": "code",
   "execution_count": 37,
   "metadata": {},
   "outputs": [
    {
     "data": {
      "text/plain": [
       "(26216, 14)"
      ]
     },
     "execution_count": 37,
     "metadata": {},
     "output_type": "execute_result"
    }
   ],
   "source": [
    "hist[hist['merchant_id'].isnull()].shape"
   ]
  },
  {
   "cell_type": "code",
   "execution_count": 38,
   "metadata": {},
   "outputs": [
    {
     "data": {
      "text/html": [
       "<div>\n",
       "<style scoped>\n",
       "    .dataframe tbody tr th:only-of-type {\n",
       "        vertical-align: middle;\n",
       "    }\n",
       "\n",
       "    .dataframe tbody tr th {\n",
       "        vertical-align: top;\n",
       "    }\n",
       "\n",
       "    .dataframe thead th {\n",
       "        text-align: right;\n",
       "    }\n",
       "</style>\n",
       "<table border=\"1\" class=\"dataframe\">\n",
       "  <thead>\n",
       "    <tr style=\"text-align: right;\">\n",
       "      <th></th>\n",
       "      <th>authorized_flag</th>\n",
       "      <th>card_id</th>\n",
       "      <th>city_id</th>\n",
       "      <th>category_1</th>\n",
       "      <th>installments</th>\n",
       "      <th>category_3</th>\n",
       "      <th>merchant_category_id</th>\n",
       "      <th>merchant_id</th>\n",
       "      <th>month_lag</th>\n",
       "      <th>purchase_amount</th>\n",
       "      <th>purchase_date</th>\n",
       "      <th>category_2</th>\n",
       "      <th>state_id</th>\n",
       "      <th>subsector_id</th>\n",
       "    </tr>\n",
       "  </thead>\n",
       "  <tbody>\n",
       "    <tr>\n",
       "      <th>0</th>\n",
       "      <td>1</td>\n",
       "      <td>280711374089</td>\n",
       "      <td>107.0</td>\n",
       "      <td>0</td>\n",
       "      <td>1.0</td>\n",
       "      <td>1.0</td>\n",
       "      <td>307.0</td>\n",
       "      <td>7.592625e+11</td>\n",
       "      <td>1</td>\n",
       "      <td>-0.557574</td>\n",
       "      <td>2018-03-11 14:57:36</td>\n",
       "      <td>1.0</td>\n",
       "      <td>9</td>\n",
       "      <td>19</td>\n",
       "    </tr>\n",
       "    <tr>\n",
       "      <th>1</th>\n",
       "      <td>1</td>\n",
       "      <td>280711374089</td>\n",
       "      <td>140.0</td>\n",
       "      <td>0</td>\n",
       "      <td>1.0</td>\n",
       "      <td>1.0</td>\n",
       "      <td>307.0</td>\n",
       "      <td>5.865658e+11</td>\n",
       "      <td>1</td>\n",
       "      <td>-0.569580</td>\n",
       "      <td>2018-03-19 18:53:37</td>\n",
       "      <td>1.0</td>\n",
       "      <td>9</td>\n",
       "      <td>19</td>\n",
       "    </tr>\n",
       "    <tr>\n",
       "      <th>2</th>\n",
       "      <td>1</td>\n",
       "      <td>280711374089</td>\n",
       "      <td>330.0</td>\n",
       "      <td>0</td>\n",
       "      <td>1.0</td>\n",
       "      <td>1.0</td>\n",
       "      <td>507.0</td>\n",
       "      <td>7.444087e+11</td>\n",
       "      <td>2</td>\n",
       "      <td>-0.551037</td>\n",
       "      <td>2018-04-26 14:08:44</td>\n",
       "      <td>1.0</td>\n",
       "      <td>9</td>\n",
       "      <td>14</td>\n",
       "    </tr>\n",
       "    <tr>\n",
       "      <th>3</th>\n",
       "      <td>1</td>\n",
       "      <td>280711374089</td>\n",
       "      <td>NaN</td>\n",
       "      <td>1</td>\n",
       "      <td>1.0</td>\n",
       "      <td>1.0</td>\n",
       "      <td>661.0</td>\n",
       "      <td>6.808329e+11</td>\n",
       "      <td>1</td>\n",
       "      <td>-0.671925</td>\n",
       "      <td>2018-03-07 09:43:21</td>\n",
       "      <td>NaN</td>\n",
       "      <td>-1</td>\n",
       "      <td>8</td>\n",
       "    </tr>\n",
       "    <tr>\n",
       "      <th>4</th>\n",
       "      <td>1</td>\n",
       "      <td>1027936849227</td>\n",
       "      <td>NaN</td>\n",
       "      <td>1</td>\n",
       "      <td>1.0</td>\n",
       "      <td>1.0</td>\n",
       "      <td>166.0</td>\n",
       "      <td>2.599626e+11</td>\n",
       "      <td>1</td>\n",
       "      <td>-0.659904</td>\n",
       "      <td>2018-03-22 21:07:53</td>\n",
       "      <td>NaN</td>\n",
       "      <td>-1</td>\n",
       "      <td>29</td>\n",
       "    </tr>\n",
       "  </tbody>\n",
       "</table>\n",
       "</div>"
      ],
      "text/plain": [
       "   authorized_flag        card_id  city_id  category_1  installments  \\\n",
       "0                1   280711374089    107.0           0           1.0   \n",
       "1                1   280711374089    140.0           0           1.0   \n",
       "2                1   280711374089    330.0           0           1.0   \n",
       "3                1   280711374089      NaN           1           1.0   \n",
       "4                1  1027936849227      NaN           1           1.0   \n",
       "\n",
       "   category_3  merchant_category_id   merchant_id  month_lag  purchase_amount  \\\n",
       "0         1.0                 307.0  7.592625e+11          1        -0.557574   \n",
       "1         1.0                 307.0  5.865658e+11          1        -0.569580   \n",
       "2         1.0                 507.0  7.444087e+11          2        -0.551037   \n",
       "3         1.0                 661.0  6.808329e+11          1        -0.671925   \n",
       "4         1.0                 166.0  2.599626e+11          1        -0.659904   \n",
       "\n",
       "        purchase_date  category_2  state_id  subsector_id  \n",
       "0 2018-03-11 14:57:36         1.0         9            19  \n",
       "1 2018-03-19 18:53:37         1.0         9            19  \n",
       "2 2018-04-26 14:08:44         1.0         9            14  \n",
       "3 2018-03-07 09:43:21         NaN        -1             8  \n",
       "4 2018-03-22 21:07:53         NaN        -1            29  "
      ]
     },
     "execution_count": 38,
     "metadata": {},
     "output_type": "execute_result"
    }
   ],
   "source": [
    "# merchant_id is a hexadecimal number. Convert it into decimal.\n",
    "hist['merchant_id'] = hist['merchant_id'].apply(lambda s : int(s[5:], 16) if pd.notnull(s) else np.nan)\n",
    "hist.head()"
   ]
  },
  {
   "cell_type": "code",
   "execution_count": 39,
   "metadata": {},
   "outputs": [
    {
     "data": {
      "text/plain": [
       "count    1.936815e+06\n",
       "mean     5.503235e+11\n",
       "std      3.188294e+11\n",
       "min      2.429567e+06\n",
       "25%      2.785781e+11\n",
       "50%      5.553498e+11\n",
       "75%      8.277068e+11\n",
       "max      1.099496e+12\n",
       "Name: merchant_id, dtype: float64"
      ]
     },
     "execution_count": 39,
     "metadata": {},
     "output_type": "execute_result"
    }
   ],
   "source": [
    "hist['merchant_id'].describe()"
   ]
  },
  {
   "cell_type": "code",
   "execution_count": 40,
   "metadata": {},
   "outputs": [
    {
     "data": {
      "text/plain": [
       "[1, 2]"
      ]
     },
     "execution_count": 40,
     "metadata": {},
     "output_type": "execute_result"
    }
   ],
   "source": [
    "sorted(hist['month_lag'].unique())"
   ]
  },
  {
   "cell_type": "code",
   "execution_count": 41,
   "metadata": {},
   "outputs": [
    {
     "data": {
      "text/plain": [
       "(0, 14)"
      ]
     },
     "execution_count": 41,
     "metadata": {},
     "output_type": "execute_result"
    }
   ],
   "source": [
    "hist[hist['month_lag'].isnull()].shape"
   ]
  },
  {
   "cell_type": "code",
   "execution_count": 42,
   "metadata": {},
   "outputs": [
    {
     "data": {
      "text/plain": [
       "count    1.963031e+06\n",
       "mean    -5.509690e-01\n",
       "std      6.940043e-01\n",
       "min     -7.468928e-01\n",
       "25%     -7.166294e-01\n",
       "50%     -6.748406e-01\n",
       "75%     -5.816162e-01\n",
       "max      2.631575e+02\n",
       "Name: purchase_amount, dtype: float64"
      ]
     },
     "execution_count": 42,
     "metadata": {},
     "output_type": "execute_result"
    }
   ],
   "source": [
    "hist['purchase_amount'].describe()"
   ]
  },
  {
   "cell_type": "code",
   "execution_count": 43,
   "metadata": {},
   "outputs": [
    {
     "data": {
      "text/plain": [
       "(0, 14)"
      ]
     },
     "execution_count": 43,
     "metadata": {},
     "output_type": "execute_result"
    }
   ],
   "source": [
    "hist[hist['purchase_amount'].isnull()].shape"
   ]
  },
  {
   "cell_type": "code",
   "execution_count": 44,
   "metadata": {},
   "outputs": [
    {
     "data": {
      "text/plain": [
       "0.000100     -0.746893\n",
       "0.001000     -0.746156\n",
       "0.010000     -0.742400\n",
       "0.100000     -0.731881\n",
       "0.900000     -0.371395\n",
       "0.990000      1.462817\n",
       "0.999000      6.775544\n",
       "0.999900     21.792860\n",
       "0.999990     54.970249\n",
       "0.999999     98.563941\n",
       "1.000000    238.795559\n",
       "1.000000    250.976529\n",
       "1.000000    260.721304\n",
       "Name: purchase_amount, dtype: float64"
      ]
     },
     "execution_count": 44,
     "metadata": {},
     "output_type": "execute_result"
    }
   ],
   "source": [
    "hist['purchase_amount'].quantile([.0001, .001, .01, .1, .9, .99, .999, .9999, .99999, .999999, .9999999, .99999995, .99999999])"
   ]
  },
  {
   "cell_type": "code",
   "execution_count": 45,
   "metadata": {},
   "outputs": [
    {
     "data": {
      "text/plain": [
       "count                 1963031\n",
       "unique                1667025\n",
       "top       2017-11-18 00:00:00\n",
       "freq                      582\n",
       "first     2017-03-01 03:24:51\n",
       "last      2018-04-30 23:59:59\n",
       "Name: purchase_date, dtype: object"
      ]
     },
     "execution_count": 45,
     "metadata": {},
     "output_type": "execute_result"
    }
   ],
   "source": [
    "hist['purchase_date'].describe()"
   ]
  },
  {
   "cell_type": "code",
   "execution_count": 46,
   "metadata": {},
   "outputs": [
    {
     "data": {
      "text/plain": [
       "(0, 14)"
      ]
     },
     "execution_count": 46,
     "metadata": {},
     "output_type": "execute_result"
    }
   ],
   "source": [
    "hist[hist['purchase_date'].isnull()].shape"
   ]
  },
  {
   "cell_type": "code",
   "execution_count": 47,
   "metadata": {},
   "outputs": [
    {
     "data": {
      "text/html": [
       "<div>\n",
       "<style scoped>\n",
       "    .dataframe tbody tr th:only-of-type {\n",
       "        vertical-align: middle;\n",
       "    }\n",
       "\n",
       "    .dataframe tbody tr th {\n",
       "        vertical-align: top;\n",
       "    }\n",
       "\n",
       "    .dataframe thead th {\n",
       "        text-align: right;\n",
       "    }\n",
       "</style>\n",
       "<table border=\"1\" class=\"dataframe\">\n",
       "  <thead>\n",
       "    <tr style=\"text-align: right;\">\n",
       "      <th></th>\n",
       "      <th>authorized_flag</th>\n",
       "      <th>card_id</th>\n",
       "      <th>city_id</th>\n",
       "      <th>category_1</th>\n",
       "      <th>installments</th>\n",
       "      <th>category_3</th>\n",
       "      <th>merchant_category_id</th>\n",
       "      <th>merchant_id</th>\n",
       "      <th>month_lag</th>\n",
       "      <th>purchase_amount</th>\n",
       "      <th>...</th>\n",
       "      <th>category_2</th>\n",
       "      <th>state_id</th>\n",
       "      <th>subsector_id</th>\n",
       "      <th>purchase_year</th>\n",
       "      <th>purchase_month</th>\n",
       "      <th>purchase_day</th>\n",
       "      <th>purchase_hour</th>\n",
       "      <th>purchase_weekofyear</th>\n",
       "      <th>purchase_dayofweek</th>\n",
       "      <th>purchase_quarter</th>\n",
       "    </tr>\n",
       "  </thead>\n",
       "  <tbody>\n",
       "    <tr>\n",
       "      <th>0</th>\n",
       "      <td>1</td>\n",
       "      <td>280711374089</td>\n",
       "      <td>107.0</td>\n",
       "      <td>0</td>\n",
       "      <td>1.0</td>\n",
       "      <td>1.0</td>\n",
       "      <td>307.0</td>\n",
       "      <td>7.592625e+11</td>\n",
       "      <td>1</td>\n",
       "      <td>-0.557574</td>\n",
       "      <td>...</td>\n",
       "      <td>1.0</td>\n",
       "      <td>9</td>\n",
       "      <td>19</td>\n",
       "      <td>2018</td>\n",
       "      <td>3</td>\n",
       "      <td>11</td>\n",
       "      <td>14</td>\n",
       "      <td>10</td>\n",
       "      <td>6</td>\n",
       "      <td>1</td>\n",
       "    </tr>\n",
       "    <tr>\n",
       "      <th>1</th>\n",
       "      <td>1</td>\n",
       "      <td>280711374089</td>\n",
       "      <td>140.0</td>\n",
       "      <td>0</td>\n",
       "      <td>1.0</td>\n",
       "      <td>1.0</td>\n",
       "      <td>307.0</td>\n",
       "      <td>5.865658e+11</td>\n",
       "      <td>1</td>\n",
       "      <td>-0.569580</td>\n",
       "      <td>...</td>\n",
       "      <td>1.0</td>\n",
       "      <td>9</td>\n",
       "      <td>19</td>\n",
       "      <td>2018</td>\n",
       "      <td>3</td>\n",
       "      <td>19</td>\n",
       "      <td>18</td>\n",
       "      <td>12</td>\n",
       "      <td>0</td>\n",
       "      <td>1</td>\n",
       "    </tr>\n",
       "    <tr>\n",
       "      <th>2</th>\n",
       "      <td>1</td>\n",
       "      <td>280711374089</td>\n",
       "      <td>330.0</td>\n",
       "      <td>0</td>\n",
       "      <td>1.0</td>\n",
       "      <td>1.0</td>\n",
       "      <td>507.0</td>\n",
       "      <td>7.444087e+11</td>\n",
       "      <td>2</td>\n",
       "      <td>-0.551037</td>\n",
       "      <td>...</td>\n",
       "      <td>1.0</td>\n",
       "      <td>9</td>\n",
       "      <td>14</td>\n",
       "      <td>2018</td>\n",
       "      <td>4</td>\n",
       "      <td>26</td>\n",
       "      <td>14</td>\n",
       "      <td>17</td>\n",
       "      <td>3</td>\n",
       "      <td>2</td>\n",
       "    </tr>\n",
       "    <tr>\n",
       "      <th>3</th>\n",
       "      <td>1</td>\n",
       "      <td>280711374089</td>\n",
       "      <td>NaN</td>\n",
       "      <td>1</td>\n",
       "      <td>1.0</td>\n",
       "      <td>1.0</td>\n",
       "      <td>661.0</td>\n",
       "      <td>6.808329e+11</td>\n",
       "      <td>1</td>\n",
       "      <td>-0.671925</td>\n",
       "      <td>...</td>\n",
       "      <td>NaN</td>\n",
       "      <td>-1</td>\n",
       "      <td>8</td>\n",
       "      <td>2018</td>\n",
       "      <td>3</td>\n",
       "      <td>7</td>\n",
       "      <td>9</td>\n",
       "      <td>10</td>\n",
       "      <td>2</td>\n",
       "      <td>1</td>\n",
       "    </tr>\n",
       "    <tr>\n",
       "      <th>4</th>\n",
       "      <td>1</td>\n",
       "      <td>1027936849227</td>\n",
       "      <td>NaN</td>\n",
       "      <td>1</td>\n",
       "      <td>1.0</td>\n",
       "      <td>1.0</td>\n",
       "      <td>166.0</td>\n",
       "      <td>2.599626e+11</td>\n",
       "      <td>1</td>\n",
       "      <td>-0.659904</td>\n",
       "      <td>...</td>\n",
       "      <td>NaN</td>\n",
       "      <td>-1</td>\n",
       "      <td>29</td>\n",
       "      <td>2018</td>\n",
       "      <td>3</td>\n",
       "      <td>22</td>\n",
       "      <td>21</td>\n",
       "      <td>12</td>\n",
       "      <td>3</td>\n",
       "      <td>1</td>\n",
       "    </tr>\n",
       "  </tbody>\n",
       "</table>\n",
       "<p>5 rows × 21 columns</p>\n",
       "</div>"
      ],
      "text/plain": [
       "   authorized_flag        card_id  city_id  category_1  installments  \\\n",
       "0                1   280711374089    107.0           0           1.0   \n",
       "1                1   280711374089    140.0           0           1.0   \n",
       "2                1   280711374089    330.0           0           1.0   \n",
       "3                1   280711374089      NaN           1           1.0   \n",
       "4                1  1027936849227      NaN           1           1.0   \n",
       "\n",
       "   category_3  merchant_category_id   merchant_id  month_lag  purchase_amount  \\\n",
       "0         1.0                 307.0  7.592625e+11          1        -0.557574   \n",
       "1         1.0                 307.0  5.865658e+11          1        -0.569580   \n",
       "2         1.0                 507.0  7.444087e+11          2        -0.551037   \n",
       "3         1.0                 661.0  6.808329e+11          1        -0.671925   \n",
       "4         1.0                 166.0  2.599626e+11          1        -0.659904   \n",
       "\n",
       "         ...        category_2  state_id  subsector_id  purchase_year  \\\n",
       "0        ...               1.0         9            19           2018   \n",
       "1        ...               1.0         9            19           2018   \n",
       "2        ...               1.0         9            14           2018   \n",
       "3        ...               NaN        -1             8           2018   \n",
       "4        ...               NaN        -1            29           2018   \n",
       "\n",
       "   purchase_month  purchase_day  purchase_hour  purchase_weekofyear  \\\n",
       "0               3            11             14                   10   \n",
       "1               3            19             18                   12   \n",
       "2               4            26             14                   17   \n",
       "3               3             7              9                   10   \n",
       "4               3            22             21                   12   \n",
       "\n",
       "   purchase_dayofweek  purchase_quarter  \n",
       "0                   6                 1  \n",
       "1                   0                 1  \n",
       "2                   3                 2  \n",
       "3                   2                 1  \n",
       "4                   3                 1  \n",
       "\n",
       "[5 rows x 21 columns]"
      ]
     },
     "execution_count": 47,
     "metadata": {},
     "output_type": "execute_result"
    }
   ],
   "source": [
    "hist = create_date_features(df = hist, source_column = 'purchase_date', preposition_of_new = 'purchase')\n",
    "\n",
    "hist.head()"
   ]
  },
  {
   "cell_type": "code",
   "execution_count": 48,
   "metadata": {},
   "outputs": [
    {
     "data": {
      "text/plain": [
       "array([  1.,  nan,   3.,   2.,   4.,   5.])"
      ]
     },
     "execution_count": 48,
     "metadata": {},
     "output_type": "execute_result"
    }
   ],
   "source": [
    "hist['category_2'].unique()"
   ]
  },
  {
   "cell_type": "code",
   "execution_count": 49,
   "metadata": {},
   "outputs": [
    {
     "name": "stdout",
     "output_type": "stream",
     "text": [
      "{16, 9, 12, 15}\n",
      "{6, 10, 18, 23, 24}\n",
      "{1, 2, 3, 7, 8, 11, 17, 19}\n",
      "{4, 13, 22, 14}\n",
      "{5, 20, 21}\n",
      "{-1}\n"
     ]
    }
   ],
   "source": [
    "print(set(hist.loc[hist['category_2'] == 1,'state_id']))             # either Central-West or Southeast region\n",
    "print(set(hist.loc[hist['category_2'] == 2,'state_id']))             # North region\n",
    "print(set(hist.loc[hist['category_2'] == 3,'state_id']))             # Northeast region\n",
    "print(set(hist.loc[hist['category_2'] == 4,'state_id']))             # either Central-West of Southeast region\n",
    "print(set(hist.loc[hist['category_2'] == 5,'state_id']))             # South region\n",
    "print(set(hist.loc[hist['category_2'].isnull(),'state_id']))         # unknown/abroad"
   ]
  },
  {
   "cell_type": "raw",
   "metadata": {},
   "source": [
    "import pandas as pd\n",
    "import numpy as np\n",
    "import matplotlib.pyplot as plt\n",
    "%matplotlib inline\n",
    "import seaborn as sns\n",
    "import random\n",
    "#import missingno\n",
    "import pickle\n",
    "random.seed(1)\n",
    "DIRECTORY = 'C:/Users/judit/Documents/learning/kaggle/Elo_201812/data/'\n",
    "hist = pd.read_pickle(DIRECTORY + 'new1.pkl')"
   ]
  },
  {
   "cell_type": "code",
   "execution_count": 50,
   "metadata": {},
   "outputs": [
    {
     "data": {
      "text/plain": [
       "array([ nan])"
      ]
     },
     "execution_count": 50,
     "metadata": {},
     "output_type": "execute_result"
    }
   ],
   "source": [
    "hist.loc[hist['category_1'] == 1, 'category_2'].unique()"
   ]
  },
  {
   "cell_type": "code",
   "execution_count": 51,
   "metadata": {},
   "outputs": [
    {
     "data": {
      "text/plain": [
       "array([ nan])"
      ]
     },
     "execution_count": 51,
     "metadata": {},
     "output_type": "execute_result"
    }
   ],
   "source": [
    "hist.loc[hist['category_1'] == 1, 'city_id'].unique()"
   ]
  },
  {
   "cell_type": "code",
   "execution_count": 52,
   "metadata": {},
   "outputs": [
    {
     "data": {
      "text/plain": [
       "array([-1], dtype=int64)"
      ]
     },
     "execution_count": 52,
     "metadata": {},
     "output_type": "execute_result"
    }
   ],
   "source": [
    "hist.loc[hist['category_1'] == 1, 'state_id'].unique()                     "
   ]
  },
  {
   "cell_type": "code",
   "execution_count": 53,
   "metadata": {},
   "outputs": [
    {
     "data": {
      "text/plain": [
       "array([1, 0], dtype=int64)"
      ]
     },
     "execution_count": 53,
     "metadata": {},
     "output_type": "execute_result"
    }
   ],
   "source": [
    "hist.loc[hist['category_2'].isnull(), 'category_1'].unique()"
   ]
  },
  {
   "cell_type": "code",
   "execution_count": 54,
   "metadata": {},
   "outputs": [
    {
     "data": {
      "text/html": [
       "<div>\n",
       "<style scoped>\n",
       "    .dataframe tbody tr th:only-of-type {\n",
       "        vertical-align: middle;\n",
       "    }\n",
       "\n",
       "    .dataframe tbody tr th {\n",
       "        vertical-align: top;\n",
       "    }\n",
       "\n",
       "    .dataframe thead th {\n",
       "        text-align: right;\n",
       "    }\n",
       "</style>\n",
       "<table border=\"1\" class=\"dataframe\">\n",
       "  <thead>\n",
       "    <tr style=\"text-align: right;\">\n",
       "      <th></th>\n",
       "      <th>authorized_flag</th>\n",
       "      <th>card_id</th>\n",
       "      <th>city_id</th>\n",
       "      <th>category_1</th>\n",
       "      <th>installments</th>\n",
       "      <th>category_3</th>\n",
       "      <th>merchant_category_id</th>\n",
       "      <th>merchant_id</th>\n",
       "      <th>month_lag</th>\n",
       "      <th>purchase_amount</th>\n",
       "      <th>...</th>\n",
       "      <th>category_2</th>\n",
       "      <th>state_id</th>\n",
       "      <th>subsector_id</th>\n",
       "      <th>purchase_year</th>\n",
       "      <th>purchase_month</th>\n",
       "      <th>purchase_day</th>\n",
       "      <th>purchase_hour</th>\n",
       "      <th>purchase_weekofyear</th>\n",
       "      <th>purchase_dayofweek</th>\n",
       "      <th>purchase_quarter</th>\n",
       "    </tr>\n",
       "  </thead>\n",
       "  <tbody>\n",
       "    <tr>\n",
       "      <th>0</th>\n",
       "      <td>1</td>\n",
       "      <td>280711374089</td>\n",
       "      <td>107.0</td>\n",
       "      <td>0</td>\n",
       "      <td>1.0</td>\n",
       "      <td>1.0</td>\n",
       "      <td>307.0</td>\n",
       "      <td>7.592625e+11</td>\n",
       "      <td>1</td>\n",
       "      <td>-0.557574</td>\n",
       "      <td>...</td>\n",
       "      <td>1.0</td>\n",
       "      <td>9</td>\n",
       "      <td>19</td>\n",
       "      <td>2018</td>\n",
       "      <td>3</td>\n",
       "      <td>11</td>\n",
       "      <td>14</td>\n",
       "      <td>10</td>\n",
       "      <td>6</td>\n",
       "      <td>1</td>\n",
       "    </tr>\n",
       "    <tr>\n",
       "      <th>1</th>\n",
       "      <td>1</td>\n",
       "      <td>280711374089</td>\n",
       "      <td>140.0</td>\n",
       "      <td>0</td>\n",
       "      <td>1.0</td>\n",
       "      <td>1.0</td>\n",
       "      <td>307.0</td>\n",
       "      <td>5.865658e+11</td>\n",
       "      <td>1</td>\n",
       "      <td>-0.569580</td>\n",
       "      <td>...</td>\n",
       "      <td>1.0</td>\n",
       "      <td>9</td>\n",
       "      <td>19</td>\n",
       "      <td>2018</td>\n",
       "      <td>3</td>\n",
       "      <td>19</td>\n",
       "      <td>18</td>\n",
       "      <td>12</td>\n",
       "      <td>0</td>\n",
       "      <td>1</td>\n",
       "    </tr>\n",
       "    <tr>\n",
       "      <th>2</th>\n",
       "      <td>1</td>\n",
       "      <td>280711374089</td>\n",
       "      <td>330.0</td>\n",
       "      <td>0</td>\n",
       "      <td>1.0</td>\n",
       "      <td>1.0</td>\n",
       "      <td>507.0</td>\n",
       "      <td>7.444087e+11</td>\n",
       "      <td>2</td>\n",
       "      <td>-0.551037</td>\n",
       "      <td>...</td>\n",
       "      <td>1.0</td>\n",
       "      <td>9</td>\n",
       "      <td>14</td>\n",
       "      <td>2018</td>\n",
       "      <td>4</td>\n",
       "      <td>26</td>\n",
       "      <td>14</td>\n",
       "      <td>17</td>\n",
       "      <td>3</td>\n",
       "      <td>2</td>\n",
       "    </tr>\n",
       "    <tr>\n",
       "      <th>3</th>\n",
       "      <td>1</td>\n",
       "      <td>280711374089</td>\n",
       "      <td>NaN</td>\n",
       "      <td>1</td>\n",
       "      <td>1.0</td>\n",
       "      <td>1.0</td>\n",
       "      <td>661.0</td>\n",
       "      <td>6.808329e+11</td>\n",
       "      <td>1</td>\n",
       "      <td>-0.671925</td>\n",
       "      <td>...</td>\n",
       "      <td>NaN</td>\n",
       "      <td>-1</td>\n",
       "      <td>8</td>\n",
       "      <td>2018</td>\n",
       "      <td>3</td>\n",
       "      <td>7</td>\n",
       "      <td>9</td>\n",
       "      <td>10</td>\n",
       "      <td>2</td>\n",
       "      <td>1</td>\n",
       "    </tr>\n",
       "    <tr>\n",
       "      <th>4</th>\n",
       "      <td>1</td>\n",
       "      <td>1027936849227</td>\n",
       "      <td>NaN</td>\n",
       "      <td>1</td>\n",
       "      <td>1.0</td>\n",
       "      <td>1.0</td>\n",
       "      <td>166.0</td>\n",
       "      <td>2.599626e+11</td>\n",
       "      <td>1</td>\n",
       "      <td>-0.659904</td>\n",
       "      <td>...</td>\n",
       "      <td>NaN</td>\n",
       "      <td>-1</td>\n",
       "      <td>29</td>\n",
       "      <td>2018</td>\n",
       "      <td>3</td>\n",
       "      <td>22</td>\n",
       "      <td>21</td>\n",
       "      <td>12</td>\n",
       "      <td>3</td>\n",
       "      <td>1</td>\n",
       "    </tr>\n",
       "  </tbody>\n",
       "</table>\n",
       "<p>5 rows × 21 columns</p>\n",
       "</div>"
      ],
      "text/plain": [
       "   authorized_flag        card_id  city_id  category_1  installments  \\\n",
       "0                1   280711374089    107.0           0           1.0   \n",
       "1                1   280711374089    140.0           0           1.0   \n",
       "2                1   280711374089    330.0           0           1.0   \n",
       "3                1   280711374089      NaN           1           1.0   \n",
       "4                1  1027936849227      NaN           1           1.0   \n",
       "\n",
       "   category_3  merchant_category_id   merchant_id  month_lag  purchase_amount  \\\n",
       "0         1.0                 307.0  7.592625e+11          1        -0.557574   \n",
       "1         1.0                 307.0  5.865658e+11          1        -0.569580   \n",
       "2         1.0                 507.0  7.444087e+11          2        -0.551037   \n",
       "3         1.0                 661.0  6.808329e+11          1        -0.671925   \n",
       "4         1.0                 166.0  2.599626e+11          1        -0.659904   \n",
       "\n",
       "         ...        category_2  state_id  subsector_id  purchase_year  \\\n",
       "0        ...               1.0         9            19           2018   \n",
       "1        ...               1.0         9            19           2018   \n",
       "2        ...               1.0         9            14           2018   \n",
       "3        ...               NaN        -1             8           2018   \n",
       "4        ...               NaN        -1            29           2018   \n",
       "\n",
       "   purchase_month  purchase_day  purchase_hour  purchase_weekofyear  \\\n",
       "0               3            11             14                   10   \n",
       "1               3            19             18                   12   \n",
       "2               4            26             14                   17   \n",
       "3               3             7              9                   10   \n",
       "4               3            22             21                   12   \n",
       "\n",
       "   purchase_dayofweek  purchase_quarter  \n",
       "0                   6                 1  \n",
       "1                   0                 1  \n",
       "2                   3                 2  \n",
       "3                   2                 1  \n",
       "4                   3                 1  \n",
       "\n",
       "[5 rows x 21 columns]"
      ]
     },
     "execution_count": 54,
     "metadata": {},
     "output_type": "execute_result"
    }
   ],
   "source": [
    "# category_2 refers to the 5 regions of Brazil. There is also a federal district. NaN states both for the federal district \n",
    "# and for foreign purchases. Let's impute 6 for the federal district\n",
    "hist['category_2'] = hist.apply(lambda row : row['category_2'] if (pd.notnull(row['category_2'])) else \n",
    "                                             6 if row['category_3'] == 0 else np.nan, axis = 1)\n",
    "\n",
    "hist.head()"
   ]
  },
  {
   "cell_type": "code",
   "execution_count": 55,
   "metadata": {},
   "outputs": [
    {
     "data": {
      "text/plain": [
       "((0, 21), -1)"
      ]
     },
     "execution_count": 55,
     "metadata": {},
     "output_type": "execute_result"
    }
   ],
   "source": [
    "hist[hist['state_id'].isnull()].shape, hist['state_id'].min()"
   ]
  },
  {
   "cell_type": "code",
   "execution_count": 56,
   "metadata": {},
   "outputs": [],
   "source": [
    "hist['state_id'] = hist['state_id'].apply(lambda x : np.nan if x == -1 else x)"
   ]
  },
  {
   "cell_type": "code",
   "execution_count": 57,
   "metadata": {},
   "outputs": [
    {
     "data": {
      "text/plain": [
       "((0, 21), -1)"
      ]
     },
     "execution_count": 57,
     "metadata": {},
     "output_type": "execute_result"
    }
   ],
   "source": [
    "hist[hist['subsector_id'].isnull()].shape, hist['subsector_id'].min()"
   ]
  },
  {
   "cell_type": "code",
   "execution_count": 58,
   "metadata": {},
   "outputs": [],
   "source": [
    "hist['subsector_id'] = hist['subsector_id'].apply(lambda x : np.nan if x == -1 else x)"
   ]
  },
  {
   "cell_type": "code",
   "execution_count": 59,
   "metadata": {},
   "outputs": [
    {
     "name": "stdout",
     "output_type": "stream",
     "text": [
      "Starting memory usage: 314.51 MB\n",
      "Reduced memory usage: 87.99 MB (72.0% reduction)\n"
     ]
    }
   ],
   "source": [
    "hist = reduce_mem_usage(hist, verbose = True)"
   ]
  },
  {
   "cell_type": "markdown",
   "metadata": {},
   "source": [
    "### Aggregates"
   ]
  },
  {
   "cell_type": "code",
   "execution_count": 60,
   "metadata": {},
   "outputs": [],
   "source": [
    "def aggregate_features(df = hist, prefix = '', suffix = '', gb_cols = ['card_id'], \n",
    "                       agg_func = {'purchase_amount': ['sum', 'mean', 'max', 'min', 'std', 'size'],\n",
    "                                   'installments': ['sum', 'median', 'mean', 'max', 'min', 'std']},\n",
    "                       authorized = True, non_authorized = True, domestic = True, non_domestic = True,\n",
    "                       max_month_lag = None, max_week_lag = None,\n",
    "                       min_installments = None, max_installments = None): \n",
    "    if not authorized:\n",
    "        df = df[df['authorized_flag'] == 0]\n",
    "    if not non_authorized:\n",
    "        df = df[df['authorized_flag'] == 1]\n",
    "    if not domestic:\n",
    "        df = df[df['category_2'].isnull()]\n",
    "    if not non_domestic:\n",
    "        df = df[df['category_2'].notnull()]\n",
    "    if max_month_lag:\n",
    "        df = df[df['month_lag'] <= max_month_lag]\n",
    "    if max_week_lag:\n",
    "        df = df[df['week_lag'] <= max_week_lag]\n",
    "    if min_installments:\n",
    "        df = df[df['installments'] >= min_installments]\n",
    "    if max_installments:\n",
    "        df = df[df['installments'] <= max_installments]\n",
    "    agg_df = df.groupby(gb_cols).agg(agg_func)\n",
    "    agg_df.columns = [prefix + '_'.join(col).strip() + suffix for col in agg_df.columns.values]  \n",
    "    agg_df.reset_index(inplace = True)\n",
    "\n",
    "    return agg_df"
   ]
  },
  {
   "cell_type": "code",
   "execution_count": 61,
   "metadata": {},
   "outputs": [
    {
     "data": {
      "text/html": [
       "<div>\n",
       "<style scoped>\n",
       "    .dataframe tbody tr th:only-of-type {\n",
       "        vertical-align: middle;\n",
       "    }\n",
       "\n",
       "    .dataframe tbody tr th {\n",
       "        vertical-align: top;\n",
       "    }\n",
       "\n",
       "    .dataframe thead th {\n",
       "        text-align: right;\n",
       "    }\n",
       "</style>\n",
       "<table border=\"1\" class=\"dataframe\">\n",
       "  <thead>\n",
       "    <tr style=\"text-align: right;\">\n",
       "      <th></th>\n",
       "      <th>card_id</th>\n",
       "      <th>reference_date_min</th>\n",
       "    </tr>\n",
       "  </thead>\n",
       "  <tbody>\n",
       "    <tr>\n",
       "      <th>0</th>\n",
       "      <td>7377857</td>\n",
       "      <td>2018-02-01 05:06:36</td>\n",
       "    </tr>\n",
       "    <tr>\n",
       "      <th>1</th>\n",
       "      <td>19103846</td>\n",
       "      <td>2018-02-01 19:42:58</td>\n",
       "    </tr>\n",
       "    <tr>\n",
       "      <th>2</th>\n",
       "      <td>22048496</td>\n",
       "      <td>2018-02-01 07:20:40</td>\n",
       "    </tr>\n",
       "    <tr>\n",
       "      <th>3</th>\n",
       "      <td>24721286</td>\n",
       "      <td>2017-10-01 02:08:20</td>\n",
       "    </tr>\n",
       "    <tr>\n",
       "      <th>4</th>\n",
       "      <td>25427418</td>\n",
       "      <td>2018-02-01 08:03:55</td>\n",
       "    </tr>\n",
       "  </tbody>\n",
       "</table>\n",
       "</div>"
      ],
      "text/plain": [
       "    card_id  reference_date_min\n",
       "0   7377857 2018-02-01 05:06:36\n",
       "1  19103846 2018-02-01 19:42:58\n",
       "2  22048496 2018-02-01 07:20:40\n",
       "3  24721286 2017-10-01 02:08:20\n",
       "4  25427418 2018-02-01 08:03:55"
      ]
     },
     "execution_count": 61,
     "metadata": {},
     "output_type": "execute_result"
    }
   ],
   "source": [
    "# Load reference dates defined in 8_Datatransf_historical_transactions_190101.ipynb\n",
    "ref_dates = pd.read_pickle(REF_DATES_FILE)\n",
    "ref_dates.head()"
   ]
  },
  {
   "cell_type": "code",
   "execution_count": 62,
   "metadata": {},
   "outputs": [],
   "source": [
    "ref_dates.columns = ['card_id', 'reference_date']"
   ]
  },
  {
   "cell_type": "code",
   "execution_count": 63,
   "metadata": {
    "scrolled": true
   },
   "outputs": [
    {
     "data": {
      "text/html": [
       "<div>\n",
       "<style scoped>\n",
       "    .dataframe tbody tr th:only-of-type {\n",
       "        vertical-align: middle;\n",
       "    }\n",
       "\n",
       "    .dataframe tbody tr th {\n",
       "        vertical-align: top;\n",
       "    }\n",
       "\n",
       "    .dataframe thead th {\n",
       "        text-align: right;\n",
       "    }\n",
       "</style>\n",
       "<table border=\"1\" class=\"dataframe\">\n",
       "  <thead>\n",
       "    <tr style=\"text-align: right;\">\n",
       "      <th></th>\n",
       "      <th>authorized_flag</th>\n",
       "      <th>card_id</th>\n",
       "      <th>city_id</th>\n",
       "      <th>category_1</th>\n",
       "      <th>installments</th>\n",
       "      <th>category_3</th>\n",
       "      <th>merchant_category_id</th>\n",
       "      <th>merchant_id</th>\n",
       "      <th>month_lag</th>\n",
       "      <th>purchase_amount</th>\n",
       "      <th>...</th>\n",
       "      <th>state_id</th>\n",
       "      <th>subsector_id</th>\n",
       "      <th>purchase_year</th>\n",
       "      <th>purchase_month</th>\n",
       "      <th>purchase_day</th>\n",
       "      <th>purchase_hour</th>\n",
       "      <th>purchase_weekofyear</th>\n",
       "      <th>purchase_dayofweek</th>\n",
       "      <th>purchase_quarter</th>\n",
       "      <th>reference_date</th>\n",
       "    </tr>\n",
       "  </thead>\n",
       "  <tbody>\n",
       "    <tr>\n",
       "      <th>0</th>\n",
       "      <td>1</td>\n",
       "      <td>280711374089</td>\n",
       "      <td>107.0</td>\n",
       "      <td>0</td>\n",
       "      <td>1.0</td>\n",
       "      <td>1.0</td>\n",
       "      <td>307.0</td>\n",
       "      <td>7.592625e+11</td>\n",
       "      <td>1</td>\n",
       "      <td>-0.557617</td>\n",
       "      <td>...</td>\n",
       "      <td>9.0</td>\n",
       "      <td>19.0</td>\n",
       "      <td>2018</td>\n",
       "      <td>3</td>\n",
       "      <td>11</td>\n",
       "      <td>14</td>\n",
       "      <td>10</td>\n",
       "      <td>6</td>\n",
       "      <td>1</td>\n",
       "      <td>2018-02-04 21:08:12</td>\n",
       "    </tr>\n",
       "    <tr>\n",
       "      <th>1</th>\n",
       "      <td>1</td>\n",
       "      <td>280711374089</td>\n",
       "      <td>140.0</td>\n",
       "      <td>0</td>\n",
       "      <td>1.0</td>\n",
       "      <td>1.0</td>\n",
       "      <td>307.0</td>\n",
       "      <td>5.865659e+11</td>\n",
       "      <td>1</td>\n",
       "      <td>-0.569336</td>\n",
       "      <td>...</td>\n",
       "      <td>9.0</td>\n",
       "      <td>19.0</td>\n",
       "      <td>2018</td>\n",
       "      <td>3</td>\n",
       "      <td>19</td>\n",
       "      <td>18</td>\n",
       "      <td>12</td>\n",
       "      <td>0</td>\n",
       "      <td>1</td>\n",
       "      <td>2018-02-04 21:08:12</td>\n",
       "    </tr>\n",
       "    <tr>\n",
       "      <th>2</th>\n",
       "      <td>1</td>\n",
       "      <td>280711374089</td>\n",
       "      <td>330.0</td>\n",
       "      <td>0</td>\n",
       "      <td>1.0</td>\n",
       "      <td>1.0</td>\n",
       "      <td>507.0</td>\n",
       "      <td>7.444087e+11</td>\n",
       "      <td>2</td>\n",
       "      <td>-0.551270</td>\n",
       "      <td>...</td>\n",
       "      <td>9.0</td>\n",
       "      <td>14.0</td>\n",
       "      <td>2018</td>\n",
       "      <td>4</td>\n",
       "      <td>26</td>\n",
       "      <td>14</td>\n",
       "      <td>17</td>\n",
       "      <td>3</td>\n",
       "      <td>2</td>\n",
       "      <td>2018-02-04 21:08:12</td>\n",
       "    </tr>\n",
       "    <tr>\n",
       "      <th>3</th>\n",
       "      <td>1</td>\n",
       "      <td>280711374089</td>\n",
       "      <td>NaN</td>\n",
       "      <td>1</td>\n",
       "      <td>1.0</td>\n",
       "      <td>1.0</td>\n",
       "      <td>661.0</td>\n",
       "      <td>6.808329e+11</td>\n",
       "      <td>1</td>\n",
       "      <td>-0.671875</td>\n",
       "      <td>...</td>\n",
       "      <td>NaN</td>\n",
       "      <td>8.0</td>\n",
       "      <td>2018</td>\n",
       "      <td>3</td>\n",
       "      <td>7</td>\n",
       "      <td>9</td>\n",
       "      <td>10</td>\n",
       "      <td>2</td>\n",
       "      <td>1</td>\n",
       "      <td>2018-02-04 21:08:12</td>\n",
       "    </tr>\n",
       "    <tr>\n",
       "      <th>4</th>\n",
       "      <td>1</td>\n",
       "      <td>1027936849227</td>\n",
       "      <td>NaN</td>\n",
       "      <td>1</td>\n",
       "      <td>1.0</td>\n",
       "      <td>1.0</td>\n",
       "      <td>166.0</td>\n",
       "      <td>2.599626e+11</td>\n",
       "      <td>1</td>\n",
       "      <td>-0.659668</td>\n",
       "      <td>...</td>\n",
       "      <td>NaN</td>\n",
       "      <td>29.0</td>\n",
       "      <td>2018</td>\n",
       "      <td>3</td>\n",
       "      <td>22</td>\n",
       "      <td>21</td>\n",
       "      <td>12</td>\n",
       "      <td>3</td>\n",
       "      <td>1</td>\n",
       "      <td>2018-02-01 02:22:38</td>\n",
       "    </tr>\n",
       "  </tbody>\n",
       "</table>\n",
       "<p>5 rows × 22 columns</p>\n",
       "</div>"
      ],
      "text/plain": [
       "   authorized_flag        card_id  city_id  category_1  installments  \\\n",
       "0                1   280711374089    107.0           0           1.0   \n",
       "1                1   280711374089    140.0           0           1.0   \n",
       "2                1   280711374089    330.0           0           1.0   \n",
       "3                1   280711374089      NaN           1           1.0   \n",
       "4                1  1027936849227      NaN           1           1.0   \n",
       "\n",
       "   category_3  merchant_category_id   merchant_id  month_lag  purchase_amount  \\\n",
       "0         1.0                 307.0  7.592625e+11          1        -0.557617   \n",
       "1         1.0                 307.0  5.865659e+11          1        -0.569336   \n",
       "2         1.0                 507.0  7.444087e+11          2        -0.551270   \n",
       "3         1.0                 661.0  6.808329e+11          1        -0.671875   \n",
       "4         1.0                 166.0  2.599626e+11          1        -0.659668   \n",
       "\n",
       "          ...         state_id  subsector_id  purchase_year  purchase_month  \\\n",
       "0         ...              9.0          19.0           2018               3   \n",
       "1         ...              9.0          19.0           2018               3   \n",
       "2         ...              9.0          14.0           2018               4   \n",
       "3         ...              NaN           8.0           2018               3   \n",
       "4         ...              NaN          29.0           2018               3   \n",
       "\n",
       "   purchase_day  purchase_hour  purchase_weekofyear  purchase_dayofweek  \\\n",
       "0            11             14                   10                   6   \n",
       "1            19             18                   12                   0   \n",
       "2            26             14                   17                   3   \n",
       "3             7              9                   10                   2   \n",
       "4            22             21                   12                   3   \n",
       "\n",
       "   purchase_quarter      reference_date  \n",
       "0                 1 2018-02-04 21:08:12  \n",
       "1                 1 2018-02-04 21:08:12  \n",
       "2                 2 2018-02-04 21:08:12  \n",
       "3                 1 2018-02-04 21:08:12  \n",
       "4                 1 2018-02-01 02:22:38  \n",
       "\n",
       "[5 rows x 22 columns]"
      ]
     },
     "execution_count": 63,
     "metadata": {},
     "output_type": "execute_result"
    }
   ],
   "source": [
    "hist = hist.merge(ref_dates, how = 'left', on = 'card_id')\n",
    "hist.head()"
   ]
  },
  {
   "cell_type": "code",
   "execution_count": 64,
   "metadata": {},
   "outputs": [
    {
     "name": "stdout",
     "output_type": "stream",
     "text": [
      "(0, 23)\n"
     ]
    },
    {
     "data": {
      "text/html": [
       "<div>\n",
       "<style scoped>\n",
       "    .dataframe tbody tr th:only-of-type {\n",
       "        vertical-align: middle;\n",
       "    }\n",
       "\n",
       "    .dataframe tbody tr th {\n",
       "        vertical-align: top;\n",
       "    }\n",
       "\n",
       "    .dataframe thead th {\n",
       "        text-align: right;\n",
       "    }\n",
       "</style>\n",
       "<table border=\"1\" class=\"dataframe\">\n",
       "  <thead>\n",
       "    <tr style=\"text-align: right;\">\n",
       "      <th></th>\n",
       "      <th>authorized_flag</th>\n",
       "      <th>card_id</th>\n",
       "      <th>city_id</th>\n",
       "      <th>category_1</th>\n",
       "      <th>installments</th>\n",
       "      <th>category_3</th>\n",
       "      <th>merchant_category_id</th>\n",
       "      <th>merchant_id</th>\n",
       "      <th>month_lag</th>\n",
       "      <th>purchase_amount</th>\n",
       "      <th>...</th>\n",
       "      <th>subsector_id</th>\n",
       "      <th>purchase_year</th>\n",
       "      <th>purchase_month</th>\n",
       "      <th>purchase_day</th>\n",
       "      <th>purchase_hour</th>\n",
       "      <th>purchase_weekofyear</th>\n",
       "      <th>purchase_dayofweek</th>\n",
       "      <th>purchase_quarter</th>\n",
       "      <th>reference_date</th>\n",
       "      <th>calculated_lag</th>\n",
       "    </tr>\n",
       "  </thead>\n",
       "  <tbody>\n",
       "    <tr>\n",
       "      <th>0</th>\n",
       "      <td>1</td>\n",
       "      <td>280711374089</td>\n",
       "      <td>107.0</td>\n",
       "      <td>0</td>\n",
       "      <td>1.0</td>\n",
       "      <td>1.0</td>\n",
       "      <td>307.0</td>\n",
       "      <td>7.592625e+11</td>\n",
       "      <td>1</td>\n",
       "      <td>-0.557617</td>\n",
       "      <td>...</td>\n",
       "      <td>19.0</td>\n",
       "      <td>2018</td>\n",
       "      <td>3</td>\n",
       "      <td>11</td>\n",
       "      <td>14</td>\n",
       "      <td>10</td>\n",
       "      <td>6</td>\n",
       "      <td>1</td>\n",
       "      <td>2018-02-04 21:08:12</td>\n",
       "      <td>1.141465</td>\n",
       "    </tr>\n",
       "    <tr>\n",
       "      <th>1</th>\n",
       "      <td>1</td>\n",
       "      <td>280711374089</td>\n",
       "      <td>140.0</td>\n",
       "      <td>0</td>\n",
       "      <td>1.0</td>\n",
       "      <td>1.0</td>\n",
       "      <td>307.0</td>\n",
       "      <td>5.865659e+11</td>\n",
       "      <td>1</td>\n",
       "      <td>-0.569336</td>\n",
       "      <td>...</td>\n",
       "      <td>19.0</td>\n",
       "      <td>2018</td>\n",
       "      <td>3</td>\n",
       "      <td>19</td>\n",
       "      <td>18</td>\n",
       "      <td>12</td>\n",
       "      <td>0</td>\n",
       "      <td>1</td>\n",
       "      <td>2018-02-04 21:08:12</td>\n",
       "      <td>1.409689</td>\n",
       "    </tr>\n",
       "    <tr>\n",
       "      <th>2</th>\n",
       "      <td>1</td>\n",
       "      <td>280711374089</td>\n",
       "      <td>330.0</td>\n",
       "      <td>0</td>\n",
       "      <td>1.0</td>\n",
       "      <td>1.0</td>\n",
       "      <td>507.0</td>\n",
       "      <td>7.444087e+11</td>\n",
       "      <td>2</td>\n",
       "      <td>-0.551270</td>\n",
       "      <td>...</td>\n",
       "      <td>14.0</td>\n",
       "      <td>2018</td>\n",
       "      <td>4</td>\n",
       "      <td>26</td>\n",
       "      <td>14</td>\n",
       "      <td>17</td>\n",
       "      <td>3</td>\n",
       "      <td>2</td>\n",
       "      <td>2018-02-04 21:08:12</td>\n",
       "      <td>2.651675</td>\n",
       "    </tr>\n",
       "    <tr>\n",
       "      <th>3</th>\n",
       "      <td>1</td>\n",
       "      <td>280711374089</td>\n",
       "      <td>NaN</td>\n",
       "      <td>1</td>\n",
       "      <td>1.0</td>\n",
       "      <td>1.0</td>\n",
       "      <td>661.0</td>\n",
       "      <td>6.808329e+11</td>\n",
       "      <td>1</td>\n",
       "      <td>-0.671875</td>\n",
       "      <td>...</td>\n",
       "      <td>8.0</td>\n",
       "      <td>2018</td>\n",
       "      <td>3</td>\n",
       "      <td>7</td>\n",
       "      <td>9</td>\n",
       "      <td>10</td>\n",
       "      <td>2</td>\n",
       "      <td>1</td>\n",
       "      <td>2018-02-04 21:08:12</td>\n",
       "      <td>1.002876</td>\n",
       "    </tr>\n",
       "    <tr>\n",
       "      <th>4</th>\n",
       "      <td>1</td>\n",
       "      <td>1027936849227</td>\n",
       "      <td>NaN</td>\n",
       "      <td>1</td>\n",
       "      <td>1.0</td>\n",
       "      <td>1.0</td>\n",
       "      <td>166.0</td>\n",
       "      <td>2.599626e+11</td>\n",
       "      <td>1</td>\n",
       "      <td>-0.659668</td>\n",
       "      <td>...</td>\n",
       "      <td>29.0</td>\n",
       "      <td>2018</td>\n",
       "      <td>3</td>\n",
       "      <td>22</td>\n",
       "      <td>21</td>\n",
       "      <td>12</td>\n",
       "      <td>3</td>\n",
       "      <td>1</td>\n",
       "      <td>2018-02-01 02:22:38</td>\n",
       "      <td>1.635563</td>\n",
       "    </tr>\n",
       "  </tbody>\n",
       "</table>\n",
       "<p>5 rows × 23 columns</p>\n",
       "</div>"
      ],
      "text/plain": [
       "   authorized_flag        card_id  city_id  category_1  installments  \\\n",
       "0                1   280711374089    107.0           0           1.0   \n",
       "1                1   280711374089    140.0           0           1.0   \n",
       "2                1   280711374089    330.0           0           1.0   \n",
       "3                1   280711374089      NaN           1           1.0   \n",
       "4                1  1027936849227      NaN           1           1.0   \n",
       "\n",
       "   category_3  merchant_category_id   merchant_id  month_lag  purchase_amount  \\\n",
       "0         1.0                 307.0  7.592625e+11          1        -0.557617   \n",
       "1         1.0                 307.0  5.865659e+11          1        -0.569336   \n",
       "2         1.0                 507.0  7.444087e+11          2        -0.551270   \n",
       "3         1.0                 661.0  6.808329e+11          1        -0.671875   \n",
       "4         1.0                 166.0  2.599626e+11          1        -0.659668   \n",
       "\n",
       "        ...       subsector_id  purchase_year  purchase_month  purchase_day  \\\n",
       "0       ...               19.0           2018               3            11   \n",
       "1       ...               19.0           2018               3            19   \n",
       "2       ...               14.0           2018               4            26   \n",
       "3       ...                8.0           2018               3             7   \n",
       "4       ...               29.0           2018               3            22   \n",
       "\n",
       "   purchase_hour  purchase_weekofyear  purchase_dayofweek  purchase_quarter  \\\n",
       "0             14                   10                   6                 1   \n",
       "1             18                   12                   0                 1   \n",
       "2             14                   17                   3                 2   \n",
       "3              9                   10                   2                 1   \n",
       "4             21                   12                   3                 1   \n",
       "\n",
       "       reference_date  calculated_lag  \n",
       "0 2018-02-04 21:08:12        1.141465  \n",
       "1 2018-02-04 21:08:12        1.409689  \n",
       "2 2018-02-04 21:08:12        2.651675  \n",
       "3 2018-02-04 21:08:12        1.002876  \n",
       "4 2018-02-01 02:22:38        1.635563  \n",
       "\n",
       "[5 rows x 23 columns]"
      ]
     },
     "execution_count": 64,
     "metadata": {},
     "output_type": "execute_result"
    }
   ],
   "source": [
    "###########################################################################\n",
    "## Check the harmony between reference dates, purchase dates and month_lags\n",
    "###########################################################################\n",
    "\n",
    "hist['calculated_lag'] = (hist['purchase_date'] - hist['reference_date']) / np.timedelta64(1, 'M')\n",
    "\n",
    "print(hist[hist['calculated_lag'] != hist['calculated_lag']].shape)\n",
    "\n",
    "hist[hist['month_lag'] != hist['calculated_lag']].head()"
   ]
  },
  {
   "cell_type": "code",
   "execution_count": 65,
   "metadata": {},
   "outputs": [
    {
     "name": "stdout",
     "output_type": "stream",
     "text": [
      "(2074, 24)\n"
     ]
    },
    {
     "data": {
      "text/html": [
       "<div>\n",
       "<style scoped>\n",
       "    .dataframe tbody tr th:only-of-type {\n",
       "        vertical-align: middle;\n",
       "    }\n",
       "\n",
       "    .dataframe tbody tr th {\n",
       "        vertical-align: top;\n",
       "    }\n",
       "\n",
       "    .dataframe thead th {\n",
       "        text-align: right;\n",
       "    }\n",
       "</style>\n",
       "<table border=\"1\" class=\"dataframe\">\n",
       "  <thead>\n",
       "    <tr style=\"text-align: right;\">\n",
       "      <th></th>\n",
       "      <th>authorized_flag</th>\n",
       "      <th>card_id</th>\n",
       "      <th>city_id</th>\n",
       "      <th>category_1</th>\n",
       "      <th>installments</th>\n",
       "      <th>category_3</th>\n",
       "      <th>merchant_category_id</th>\n",
       "      <th>merchant_id</th>\n",
       "      <th>month_lag</th>\n",
       "      <th>purchase_amount</th>\n",
       "      <th>...</th>\n",
       "      <th>purchase_year</th>\n",
       "      <th>purchase_month</th>\n",
       "      <th>purchase_day</th>\n",
       "      <th>purchase_hour</th>\n",
       "      <th>purchase_weekofyear</th>\n",
       "      <th>purchase_dayofweek</th>\n",
       "      <th>purchase_quarter</th>\n",
       "      <th>reference_date</th>\n",
       "      <th>calculated_lag</th>\n",
       "      <th>lagdiff</th>\n",
       "    </tr>\n",
       "  </thead>\n",
       "  <tbody>\n",
       "    <tr>\n",
       "      <th>950</th>\n",
       "      <td>1</td>\n",
       "      <td>200001111054</td>\n",
       "      <td>137.0</td>\n",
       "      <td>0</td>\n",
       "      <td>0.0</td>\n",
       "      <td>0.0</td>\n",
       "      <td>80.0</td>\n",
       "      <td>2.986535e+11</td>\n",
       "      <td>2</td>\n",
       "      <td>-0.681641</td>\n",
       "      <td>...</td>\n",
       "      <td>2018</td>\n",
       "      <td>1</td>\n",
       "      <td>31</td>\n",
       "      <td>23</td>\n",
       "      <td>5</td>\n",
       "      <td>2</td>\n",
       "      <td>1</td>\n",
       "      <td>2017-11-01 00:12:26</td>\n",
       "      <td>3.022216</td>\n",
       "      <td>1.022216</td>\n",
       "    </tr>\n",
       "    <tr>\n",
       "      <th>951</th>\n",
       "      <td>1</td>\n",
       "      <td>200001111054</td>\n",
       "      <td>137.0</td>\n",
       "      <td>0</td>\n",
       "      <td>0.0</td>\n",
       "      <td>0.0</td>\n",
       "      <td>307.0</td>\n",
       "      <td>9.259335e+11</td>\n",
       "      <td>2</td>\n",
       "      <td>-0.671875</td>\n",
       "      <td>...</td>\n",
       "      <td>2018</td>\n",
       "      <td>1</td>\n",
       "      <td>31</td>\n",
       "      <td>23</td>\n",
       "      <td>5</td>\n",
       "      <td>2</td>\n",
       "      <td>1</td>\n",
       "      <td>2017-11-01 00:12:26</td>\n",
       "      <td>3.021937</td>\n",
       "      <td>1.021937</td>\n",
       "    </tr>\n",
       "    <tr>\n",
       "      <th>1015</th>\n",
       "      <td>1</td>\n",
       "      <td>1075540040452</td>\n",
       "      <td>NaN</td>\n",
       "      <td>1</td>\n",
       "      <td>4.0</td>\n",
       "      <td>2.0</td>\n",
       "      <td>210.0</td>\n",
       "      <td>4.311888e+11</td>\n",
       "      <td>1</td>\n",
       "      <td>8.468750</td>\n",
       "      <td>...</td>\n",
       "      <td>2018</td>\n",
       "      <td>1</td>\n",
       "      <td>31</td>\n",
       "      <td>15</td>\n",
       "      <td>5</td>\n",
       "      <td>2</td>\n",
       "      <td>1</td>\n",
       "      <td>2017-12-01 00:00:00</td>\n",
       "      <td>2.025797</td>\n",
       "      <td>1.025797</td>\n",
       "    </tr>\n",
       "    <tr>\n",
       "      <th>2014</th>\n",
       "      <td>1</td>\n",
       "      <td>865564038120</td>\n",
       "      <td>253.0</td>\n",
       "      <td>0</td>\n",
       "      <td>0.0</td>\n",
       "      <td>0.0</td>\n",
       "      <td>367.0</td>\n",
       "      <td>1.990933e+11</td>\n",
       "      <td>1</td>\n",
       "      <td>-0.710938</td>\n",
       "      <td>...</td>\n",
       "      <td>2017</td>\n",
       "      <td>8</td>\n",
       "      <td>31</td>\n",
       "      <td>14</td>\n",
       "      <td>35</td>\n",
       "      <td>3</td>\n",
       "      <td>3</td>\n",
       "      <td>2017-07-01 10:23:54</td>\n",
       "      <td>2.010084</td>\n",
       "      <td>1.010084</td>\n",
       "    </tr>\n",
       "    <tr>\n",
       "      <th>5057</th>\n",
       "      <td>1</td>\n",
       "      <td>78305994616</td>\n",
       "      <td>69.0</td>\n",
       "      <td>0</td>\n",
       "      <td>0.0</td>\n",
       "      <td>0.0</td>\n",
       "      <td>561.0</td>\n",
       "      <td>3.477155e+11</td>\n",
       "      <td>2</td>\n",
       "      <td>-0.671875</td>\n",
       "      <td>...</td>\n",
       "      <td>2017</td>\n",
       "      <td>10</td>\n",
       "      <td>31</td>\n",
       "      <td>22</td>\n",
       "      <td>44</td>\n",
       "      <td>1</td>\n",
       "      <td>4</td>\n",
       "      <td>2017-08-01 05:50:27</td>\n",
       "      <td>3.012195</td>\n",
       "      <td>1.012195</td>\n",
       "    </tr>\n",
       "  </tbody>\n",
       "</table>\n",
       "<p>5 rows × 24 columns</p>\n",
       "</div>"
      ],
      "text/plain": [
       "      authorized_flag        card_id  city_id  category_1  installments  \\\n",
       "950                 1   200001111054    137.0           0           0.0   \n",
       "951                 1   200001111054    137.0           0           0.0   \n",
       "1015                1  1075540040452      NaN           1           4.0   \n",
       "2014                1   865564038120    253.0           0           0.0   \n",
       "5057                1    78305994616     69.0           0           0.0   \n",
       "\n",
       "      category_3  merchant_category_id   merchant_id  month_lag  \\\n",
       "950          0.0                  80.0  2.986535e+11          2   \n",
       "951          0.0                 307.0  9.259335e+11          2   \n",
       "1015         2.0                 210.0  4.311888e+11          1   \n",
       "2014         0.0                 367.0  1.990933e+11          1   \n",
       "5057         0.0                 561.0  3.477155e+11          2   \n",
       "\n",
       "      purchase_amount    ...    purchase_year  purchase_month  purchase_day  \\\n",
       "950         -0.681641    ...             2018               1            31   \n",
       "951         -0.671875    ...             2018               1            31   \n",
       "1015         8.468750    ...             2018               1            31   \n",
       "2014        -0.710938    ...             2017               8            31   \n",
       "5057        -0.671875    ...             2017              10            31   \n",
       "\n",
       "      purchase_hour  purchase_weekofyear  purchase_dayofweek  \\\n",
       "950              23                    5                   2   \n",
       "951              23                    5                   2   \n",
       "1015             15                    5                   2   \n",
       "2014             14                   35                   3   \n",
       "5057             22                   44                   1   \n",
       "\n",
       "      purchase_quarter      reference_date  calculated_lag   lagdiff  \n",
       "950                  1 2017-11-01 00:12:26        3.022216  1.022216  \n",
       "951                  1 2017-11-01 00:12:26        3.021937  1.021937  \n",
       "1015                 1 2017-12-01 00:00:00        2.025797  1.025797  \n",
       "2014                 3 2017-07-01 10:23:54        2.010084  1.010084  \n",
       "5057                 4 2017-08-01 05:50:27        3.012195  1.012195  \n",
       "\n",
       "[5 rows x 24 columns]"
      ]
     },
     "execution_count": 65,
     "metadata": {},
     "output_type": "execute_result"
    }
   ],
   "source": [
    "hist['lagdiff'] = hist['calculated_lag'] - hist['month_lag']\n",
    "\n",
    "print(hist[((hist['lagdiff'] >= 1) | (hist['lagdiff'] <= -1))].shape)\n",
    "\n",
    "hist[((hist['lagdiff'] >= 1) | (hist['lagdiff'] <= -1))].head()"
   ]
  },
  {
   "cell_type": "code",
   "execution_count": 66,
   "metadata": {},
   "outputs": [
    {
     "data": {
      "text/plain": [
       "count    1.963031e+06\n",
       "mean     4.104037e-01\n",
       "std      2.972678e-01\n",
       "min     -9.664736e-01\n",
       "25%      1.586001e-01\n",
       "50%      4.053988e-01\n",
       "75%      6.616510e-01\n",
       "max      1.036750e+00\n",
       "Name: lagdiff, dtype: float64"
      ]
     },
     "execution_count": 66,
     "metadata": {},
     "output_type": "execute_result"
    }
   ],
   "source": [
    "hist['lagdiff'].describe()"
   ]
  },
  {
   "cell_type": "code",
   "execution_count": 67,
   "metadata": {},
   "outputs": [
    {
     "data": {
      "text/plain": [
       "count    1.963031e+06\n",
       "mean     1.886919e+00\n",
       "std      5.843209e-01\n",
       "min      3.352643e-02\n",
       "25%      1.382722e+00\n",
       "50%      1.874768e+00\n",
       "75%      2.379086e+00\n",
       "max      3.022365e+00\n",
       "Name: calculated_lag, dtype: float64"
      ]
     },
     "execution_count": 67,
     "metadata": {},
     "output_type": "execute_result"
    }
   ],
   "source": [
    "hist['calculated_lag'].describe()"
   ]
  },
  {
   "cell_type": "code",
   "execution_count": 68,
   "metadata": {},
   "outputs": [
    {
     "data": {
      "text/html": [
       "<div>\n",
       "<style scoped>\n",
       "    .dataframe tbody tr th:only-of-type {\n",
       "        vertical-align: middle;\n",
       "    }\n",
       "\n",
       "    .dataframe tbody tr th {\n",
       "        vertical-align: top;\n",
       "    }\n",
       "\n",
       "    .dataframe thead th {\n",
       "        text-align: right;\n",
       "    }\n",
       "</style>\n",
       "<table border=\"1\" class=\"dataframe\">\n",
       "  <thead>\n",
       "    <tr style=\"text-align: right;\">\n",
       "      <th></th>\n",
       "      <th>card_id</th>\n",
       "      <th>calculated_lag_max</th>\n",
       "      <th>calculated_lag_min</th>\n",
       "      <th>month_lag_max</th>\n",
       "      <th>month_lag_min</th>\n",
       "    </tr>\n",
       "  </thead>\n",
       "  <tbody>\n",
       "    <tr>\n",
       "      <th>0</th>\n",
       "      <td>7377857</td>\n",
       "      <td>2.216732</td>\n",
       "      <td>2.012521</td>\n",
       "      <td>2</td>\n",
       "      <td>2</td>\n",
       "    </tr>\n",
       "    <tr>\n",
       "      <th>1</th>\n",
       "      <td>19103846</td>\n",
       "      <td>2.891561</td>\n",
       "      <td>0.915955</td>\n",
       "      <td>2</td>\n",
       "      <td>1</td>\n",
       "    </tr>\n",
       "    <tr>\n",
       "      <th>2</th>\n",
       "      <td>22048496</td>\n",
       "      <td>1.612487</td>\n",
       "      <td>1.433324</td>\n",
       "      <td>1</td>\n",
       "      <td>1</td>\n",
       "    </tr>\n",
       "    <tr>\n",
       "      <th>3</th>\n",
       "      <td>24721286</td>\n",
       "      <td>3.010958</td>\n",
       "      <td>1.497088</td>\n",
       "      <td>2</td>\n",
       "      <td>1</td>\n",
       "    </tr>\n",
       "    <tr>\n",
       "      <th>4</th>\n",
       "      <td>25427418</td>\n",
       "      <td>2.900720</td>\n",
       "      <td>0.958781</td>\n",
       "      <td>2</td>\n",
       "      <td>1</td>\n",
       "    </tr>\n",
       "  </tbody>\n",
       "</table>\n",
       "</div>"
      ],
      "text/plain": [
       "    card_id  calculated_lag_max  calculated_lag_min  month_lag_max  \\\n",
       "0   7377857            2.216732            2.012521              2   \n",
       "1  19103846            2.891561            0.915955              2   \n",
       "2  22048496            1.612487            1.433324              1   \n",
       "3  24721286            3.010958            1.497088              2   \n",
       "4  25427418            2.900720            0.958781              2   \n",
       "\n",
       "   month_lag_min  \n",
       "0              2  \n",
       "1              1  \n",
       "2              1  \n",
       "3              1  \n",
       "4              1  "
      ]
     },
     "execution_count": 68,
     "metadata": {},
     "output_type": "execute_result"
    }
   ],
   "source": [
    "lag_agg = aggregate_features(df = hist, prefix = '', suffix = '', gb_cols = ['card_id'], \n",
    "                             agg_func = {'calculated_lag': ['max', 'min'],\n",
    "                                         'month_lag': ['max', 'min']},\n",
    "                             authorized = True, non_authorized = True, domestic = True, non_domestic = True,\n",
    "                             max_month_lag = None, max_week_lag = None,\n",
    "                             min_installments = None, max_installments = None)\n",
    "lag_agg.head()"
   ]
  },
  {
   "cell_type": "code",
   "execution_count": 69,
   "metadata": {},
   "outputs": [
    {
     "data": {
      "text/plain": [
       "count    290001.000000\n",
       "mean          0.310410\n",
       "std           0.365963\n",
       "min          -0.999598\n",
       "25%           0.000000\n",
       "50%           0.277715\n",
       "75%           0.617816\n",
       "max           1.034415\n",
       "Name: lag_range_diff, dtype: float64"
      ]
     },
     "execution_count": 69,
     "metadata": {},
     "output_type": "execute_result"
    }
   ],
   "source": [
    "lag_agg['calculated_lag_range'] = lag_agg['calculated_lag_max'] - lag_agg['calculated_lag_min']\n",
    "lag_agg['month_lag_range'] = lag_agg['month_lag_max'] - lag_agg['month_lag_min']\n",
    "lag_agg['lag_range_diff'] = lag_agg['calculated_lag_range'] - lag_agg['month_lag_range']\n",
    "lag_agg['lag_range_diff'].describe()"
   ]
  },
  {
   "cell_type": "markdown",
   "metadata": {},
   "source": [
    "As the difference between the lag ranges is sometimes larger than 1, it seems not the same reference date is used in this file and in historical_transactions.csv.  \n",
    "So far we didn't use the reference date, and the differences are between -1 and 1.03 with mean at 0.3, so I think that we don't neccessarily need to deal with these differences."
   ]
  },
  {
   "cell_type": "code",
   "execution_count": 70,
   "metadata": {},
   "outputs": [],
   "source": [
    "del lag_agg\n",
    "hist.drop(['calculated_lag', 'lagdiff'], inplace = True, axis = 1)"
   ]
  },
  {
   "cell_type": "code",
   "execution_count": 71,
   "metadata": {},
   "outputs": [],
   "source": [
    "###########################################################################\n",
    "## End of checking month_lag\n",
    "###########################################################################"
   ]
  },
  {
   "cell_type": "code",
   "execution_count": 72,
   "metadata": {},
   "outputs": [
    {
     "data": {
      "text/html": [
       "<div>\n",
       "<style scoped>\n",
       "    .dataframe tbody tr th:only-of-type {\n",
       "        vertical-align: middle;\n",
       "    }\n",
       "\n",
       "    .dataframe tbody tr th {\n",
       "        vertical-align: top;\n",
       "    }\n",
       "\n",
       "    .dataframe thead th {\n",
       "        text-align: right;\n",
       "    }\n",
       "</style>\n",
       "<table border=\"1\" class=\"dataframe\">\n",
       "  <thead>\n",
       "    <tr style=\"text-align: right;\">\n",
       "      <th></th>\n",
       "      <th>authorized_flag</th>\n",
       "      <th>card_id</th>\n",
       "      <th>city_id</th>\n",
       "      <th>category_1</th>\n",
       "      <th>installments</th>\n",
       "      <th>category_3</th>\n",
       "      <th>merchant_category_id</th>\n",
       "      <th>merchant_id</th>\n",
       "      <th>month_lag</th>\n",
       "      <th>purchase_amount</th>\n",
       "      <th>...</th>\n",
       "      <th>purchase_dayofweek</th>\n",
       "      <th>purchase_quarter</th>\n",
       "      <th>reference_date</th>\n",
       "      <th>reference_year</th>\n",
       "      <th>reference_month</th>\n",
       "      <th>reference_day</th>\n",
       "      <th>reference_hour</th>\n",
       "      <th>reference_weekofyear</th>\n",
       "      <th>reference_dayofweek</th>\n",
       "      <th>reference_quarter</th>\n",
       "    </tr>\n",
       "  </thead>\n",
       "  <tbody>\n",
       "    <tr>\n",
       "      <th>0</th>\n",
       "      <td>1</td>\n",
       "      <td>280711374089</td>\n",
       "      <td>107.0</td>\n",
       "      <td>0</td>\n",
       "      <td>1.0</td>\n",
       "      <td>1.0</td>\n",
       "      <td>307.0</td>\n",
       "      <td>7.592625e+11</td>\n",
       "      <td>1</td>\n",
       "      <td>-0.557617</td>\n",
       "      <td>...</td>\n",
       "      <td>6</td>\n",
       "      <td>1</td>\n",
       "      <td>2018-02-04 21:08:12</td>\n",
       "      <td>2018</td>\n",
       "      <td>2</td>\n",
       "      <td>4</td>\n",
       "      <td>21</td>\n",
       "      <td>5</td>\n",
       "      <td>6</td>\n",
       "      <td>1</td>\n",
       "    </tr>\n",
       "    <tr>\n",
       "      <th>1</th>\n",
       "      <td>1</td>\n",
       "      <td>280711374089</td>\n",
       "      <td>140.0</td>\n",
       "      <td>0</td>\n",
       "      <td>1.0</td>\n",
       "      <td>1.0</td>\n",
       "      <td>307.0</td>\n",
       "      <td>5.865659e+11</td>\n",
       "      <td>1</td>\n",
       "      <td>-0.569336</td>\n",
       "      <td>...</td>\n",
       "      <td>0</td>\n",
       "      <td>1</td>\n",
       "      <td>2018-02-04 21:08:12</td>\n",
       "      <td>2018</td>\n",
       "      <td>2</td>\n",
       "      <td>4</td>\n",
       "      <td>21</td>\n",
       "      <td>5</td>\n",
       "      <td>6</td>\n",
       "      <td>1</td>\n",
       "    </tr>\n",
       "    <tr>\n",
       "      <th>2</th>\n",
       "      <td>1</td>\n",
       "      <td>280711374089</td>\n",
       "      <td>330.0</td>\n",
       "      <td>0</td>\n",
       "      <td>1.0</td>\n",
       "      <td>1.0</td>\n",
       "      <td>507.0</td>\n",
       "      <td>7.444087e+11</td>\n",
       "      <td>2</td>\n",
       "      <td>-0.551270</td>\n",
       "      <td>...</td>\n",
       "      <td>3</td>\n",
       "      <td>2</td>\n",
       "      <td>2018-02-04 21:08:12</td>\n",
       "      <td>2018</td>\n",
       "      <td>2</td>\n",
       "      <td>4</td>\n",
       "      <td>21</td>\n",
       "      <td>5</td>\n",
       "      <td>6</td>\n",
       "      <td>1</td>\n",
       "    </tr>\n",
       "    <tr>\n",
       "      <th>3</th>\n",
       "      <td>1</td>\n",
       "      <td>280711374089</td>\n",
       "      <td>NaN</td>\n",
       "      <td>1</td>\n",
       "      <td>1.0</td>\n",
       "      <td>1.0</td>\n",
       "      <td>661.0</td>\n",
       "      <td>6.808329e+11</td>\n",
       "      <td>1</td>\n",
       "      <td>-0.671875</td>\n",
       "      <td>...</td>\n",
       "      <td>2</td>\n",
       "      <td>1</td>\n",
       "      <td>2018-02-04 21:08:12</td>\n",
       "      <td>2018</td>\n",
       "      <td>2</td>\n",
       "      <td>4</td>\n",
       "      <td>21</td>\n",
       "      <td>5</td>\n",
       "      <td>6</td>\n",
       "      <td>1</td>\n",
       "    </tr>\n",
       "    <tr>\n",
       "      <th>4</th>\n",
       "      <td>1</td>\n",
       "      <td>1027936849227</td>\n",
       "      <td>NaN</td>\n",
       "      <td>1</td>\n",
       "      <td>1.0</td>\n",
       "      <td>1.0</td>\n",
       "      <td>166.0</td>\n",
       "      <td>2.599626e+11</td>\n",
       "      <td>1</td>\n",
       "      <td>-0.659668</td>\n",
       "      <td>...</td>\n",
       "      <td>3</td>\n",
       "      <td>1</td>\n",
       "      <td>2018-02-01 02:22:38</td>\n",
       "      <td>2018</td>\n",
       "      <td>2</td>\n",
       "      <td>1</td>\n",
       "      <td>2</td>\n",
       "      <td>5</td>\n",
       "      <td>3</td>\n",
       "      <td>1</td>\n",
       "    </tr>\n",
       "  </tbody>\n",
       "</table>\n",
       "<p>5 rows × 29 columns</p>\n",
       "</div>"
      ],
      "text/plain": [
       "   authorized_flag        card_id  city_id  category_1  installments  \\\n",
       "0                1   280711374089    107.0           0           1.0   \n",
       "1                1   280711374089    140.0           0           1.0   \n",
       "2                1   280711374089    330.0           0           1.0   \n",
       "3                1   280711374089      NaN           1           1.0   \n",
       "4                1  1027936849227      NaN           1           1.0   \n",
       "\n",
       "   category_3  merchant_category_id   merchant_id  month_lag  purchase_amount  \\\n",
       "0         1.0                 307.0  7.592625e+11          1        -0.557617   \n",
       "1         1.0                 307.0  5.865659e+11          1        -0.569336   \n",
       "2         1.0                 507.0  7.444087e+11          2        -0.551270   \n",
       "3         1.0                 661.0  6.808329e+11          1        -0.671875   \n",
       "4         1.0                 166.0  2.599626e+11          1        -0.659668   \n",
       "\n",
       "         ...         purchase_dayofweek  purchase_quarter      reference_date  \\\n",
       "0        ...                          6                 1 2018-02-04 21:08:12   \n",
       "1        ...                          0                 1 2018-02-04 21:08:12   \n",
       "2        ...                          3                 2 2018-02-04 21:08:12   \n",
       "3        ...                          2                 1 2018-02-04 21:08:12   \n",
       "4        ...                          3                 1 2018-02-01 02:22:38   \n",
       "\n",
       "   reference_year  reference_month  reference_day  reference_hour  \\\n",
       "0            2018                2              4              21   \n",
       "1            2018                2              4              21   \n",
       "2            2018                2              4              21   \n",
       "3            2018                2              4              21   \n",
       "4            2018                2              1               2   \n",
       "\n",
       "   reference_weekofyear  reference_dayofweek  reference_quarter  \n",
       "0                     5                    6                  1  \n",
       "1                     5                    6                  1  \n",
       "2                     5                    6                  1  \n",
       "3                     5                    6                  1  \n",
       "4                     5                    3                  1  \n",
       "\n",
       "[5 rows x 29 columns]"
      ]
     },
     "execution_count": 72,
     "metadata": {},
     "output_type": "execute_result"
    }
   ],
   "source": [
    "hist = create_date_features(hist, source_column = 'reference_date', preposition_of_new = 'reference')\n",
    "hist.head()"
   ]
  },
  {
   "cell_type": "code",
   "execution_count": 73,
   "metadata": {},
   "outputs": [
    {
     "data": {
      "text/html": [
       "<div>\n",
       "<style scoped>\n",
       "    .dataframe tbody tr th:only-of-type {\n",
       "        vertical-align: middle;\n",
       "    }\n",
       "\n",
       "    .dataframe tbody tr th {\n",
       "        vertical-align: top;\n",
       "    }\n",
       "\n",
       "    .dataframe thead th {\n",
       "        text-align: right;\n",
       "    }\n",
       "</style>\n",
       "<table border=\"1\" class=\"dataframe\">\n",
       "  <thead>\n",
       "    <tr style=\"text-align: right;\">\n",
       "      <th></th>\n",
       "      <th>card_id</th>\n",
       "      <th>purchase_date</th>\n",
       "      <th>reference_date</th>\n",
       "      <th>month_lag</th>\n",
       "    </tr>\n",
       "  </thead>\n",
       "  <tbody>\n",
       "    <tr>\n",
       "      <th>0</th>\n",
       "      <td>280711374089</td>\n",
       "      <td>2018-03-11 14:57:36</td>\n",
       "      <td>2018-02-04 21:08:12</td>\n",
       "      <td>1</td>\n",
       "    </tr>\n",
       "    <tr>\n",
       "      <th>1</th>\n",
       "      <td>280711374089</td>\n",
       "      <td>2018-03-19 18:53:37</td>\n",
       "      <td>2018-02-04 21:08:12</td>\n",
       "      <td>1</td>\n",
       "    </tr>\n",
       "    <tr>\n",
       "      <th>2</th>\n",
       "      <td>280711374089</td>\n",
       "      <td>2018-04-26 14:08:44</td>\n",
       "      <td>2018-02-04 21:08:12</td>\n",
       "      <td>2</td>\n",
       "    </tr>\n",
       "    <tr>\n",
       "      <th>3</th>\n",
       "      <td>280711374089</td>\n",
       "      <td>2018-03-07 09:43:21</td>\n",
       "      <td>2018-02-04 21:08:12</td>\n",
       "      <td>1</td>\n",
       "    </tr>\n",
       "    <tr>\n",
       "      <th>4</th>\n",
       "      <td>1027936849227</td>\n",
       "      <td>2018-03-22 21:07:53</td>\n",
       "      <td>2018-02-01 02:22:38</td>\n",
       "      <td>1</td>\n",
       "    </tr>\n",
       "    <tr>\n",
       "      <th>5</th>\n",
       "      <td>1027936849227</td>\n",
       "      <td>2018-04-02 12:53:28</td>\n",
       "      <td>2018-02-01 02:22:38</td>\n",
       "      <td>2</td>\n",
       "    </tr>\n",
       "    <tr>\n",
       "      <th>6</th>\n",
       "      <td>1027936849227</td>\n",
       "      <td>2018-03-28 19:50:19</td>\n",
       "      <td>2018-02-01 02:22:38</td>\n",
       "      <td>1</td>\n",
       "    </tr>\n",
       "    <tr>\n",
       "      <th>7</th>\n",
       "      <td>1027936849227</td>\n",
       "      <td>2018-04-05 08:06:52</td>\n",
       "      <td>2018-02-01 02:22:38</td>\n",
       "      <td>2</td>\n",
       "    </tr>\n",
       "    <tr>\n",
       "      <th>8</th>\n",
       "      <td>1027936849227</td>\n",
       "      <td>2018-04-07 18:37:40</td>\n",
       "      <td>2018-02-01 02:22:38</td>\n",
       "      <td>2</td>\n",
       "    </tr>\n",
       "    <tr>\n",
       "      <th>9</th>\n",
       "      <td>1027936849227</td>\n",
       "      <td>2018-03-17 18:10:41</td>\n",
       "      <td>2018-02-01 02:22:38</td>\n",
       "      <td>1</td>\n",
       "    </tr>\n",
       "  </tbody>\n",
       "</table>\n",
       "</div>"
      ],
      "text/plain": [
       "         card_id       purchase_date      reference_date  month_lag\n",
       "0   280711374089 2018-03-11 14:57:36 2018-02-04 21:08:12          1\n",
       "1   280711374089 2018-03-19 18:53:37 2018-02-04 21:08:12          1\n",
       "2   280711374089 2018-04-26 14:08:44 2018-02-04 21:08:12          2\n",
       "3   280711374089 2018-03-07 09:43:21 2018-02-04 21:08:12          1\n",
       "4  1027936849227 2018-03-22 21:07:53 2018-02-01 02:22:38          1\n",
       "5  1027936849227 2018-04-02 12:53:28 2018-02-01 02:22:38          2\n",
       "6  1027936849227 2018-03-28 19:50:19 2018-02-01 02:22:38          1\n",
       "7  1027936849227 2018-04-05 08:06:52 2018-02-01 02:22:38          2\n",
       "8  1027936849227 2018-04-07 18:37:40 2018-02-01 02:22:38          2\n",
       "9  1027936849227 2018-03-17 18:10:41 2018-02-01 02:22:38          1"
      ]
     },
     "execution_count": 73,
     "metadata": {},
     "output_type": "execute_result"
    }
   ],
   "source": [
    "hist[['card_id', 'purchase_date', 'reference_date', 'month_lag']].head(10)"
   ]
  },
  {
   "cell_type": "code",
   "execution_count": 74,
   "metadata": {},
   "outputs": [
    {
     "data": {
      "text/html": [
       "<div>\n",
       "<style scoped>\n",
       "    .dataframe tbody tr th:only-of-type {\n",
       "        vertical-align: middle;\n",
       "    }\n",
       "\n",
       "    .dataframe tbody tr th {\n",
       "        vertical-align: top;\n",
       "    }\n",
       "\n",
       "    .dataframe thead th {\n",
       "        text-align: right;\n",
       "    }\n",
       "</style>\n",
       "<table border=\"1\" class=\"dataframe\">\n",
       "  <thead>\n",
       "    <tr style=\"text-align: right;\">\n",
       "      <th></th>\n",
       "      <th>card_id</th>\n",
       "      <th>purchase_date</th>\n",
       "      <th>reference_date</th>\n",
       "      <th>month_lag</th>\n",
       "      <th>week_lag</th>\n",
       "    </tr>\n",
       "  </thead>\n",
       "  <tbody>\n",
       "    <tr>\n",
       "      <th>0</th>\n",
       "      <td>280711374089</td>\n",
       "      <td>2018-03-11 14:57:36</td>\n",
       "      <td>2018-02-04 21:08:12</td>\n",
       "      <td>1</td>\n",
       "      <td>5</td>\n",
       "    </tr>\n",
       "    <tr>\n",
       "      <th>1</th>\n",
       "      <td>280711374089</td>\n",
       "      <td>2018-03-19 18:53:37</td>\n",
       "      <td>2018-02-04 21:08:12</td>\n",
       "      <td>1</td>\n",
       "      <td>7</td>\n",
       "    </tr>\n",
       "    <tr>\n",
       "      <th>2</th>\n",
       "      <td>280711374089</td>\n",
       "      <td>2018-04-26 14:08:44</td>\n",
       "      <td>2018-02-04 21:08:12</td>\n",
       "      <td>2</td>\n",
       "      <td>12</td>\n",
       "    </tr>\n",
       "    <tr>\n",
       "      <th>3</th>\n",
       "      <td>280711374089</td>\n",
       "      <td>2018-03-07 09:43:21</td>\n",
       "      <td>2018-02-04 21:08:12</td>\n",
       "      <td>1</td>\n",
       "      <td>5</td>\n",
       "    </tr>\n",
       "    <tr>\n",
       "      <th>4</th>\n",
       "      <td>1027936849227</td>\n",
       "      <td>2018-03-22 21:07:53</td>\n",
       "      <td>2018-02-01 02:22:38</td>\n",
       "      <td>1</td>\n",
       "      <td>7</td>\n",
       "    </tr>\n",
       "  </tbody>\n",
       "</table>\n",
       "</div>"
      ],
      "text/plain": [
       "         card_id       purchase_date      reference_date  month_lag  week_lag\n",
       "0   280711374089 2018-03-11 14:57:36 2018-02-04 21:08:12          1         5\n",
       "1   280711374089 2018-03-19 18:53:37 2018-02-04 21:08:12          1         7\n",
       "2   280711374089 2018-04-26 14:08:44 2018-02-04 21:08:12          2        12\n",
       "3   280711374089 2018-03-07 09:43:21 2018-02-04 21:08:12          1         5\n",
       "4  1027936849227 2018-03-22 21:07:53 2018-02-01 02:22:38          1         7"
      ]
     },
     "execution_count": 74,
     "metadata": {},
     "output_type": "execute_result"
    }
   ],
   "source": [
    "hist['week_lag'] = (hist.purchase_date.dt.year - hist.reference_date.dt.year\n",
    "                   ) * 52 + (hist.purchase_date.dt.weekofyear - hist.reference_date.dt.weekofyear)\n",
    "hist[['card_id', 'purchase_date', 'reference_date', 'month_lag', 'week_lag']].head()"
   ]
  },
  {
   "cell_type": "code",
   "execution_count": 75,
   "metadata": {},
   "outputs": [],
   "source": [
    "hist.to_pickle(DIRECTORY + 'new_trans.pkl')"
   ]
  },
  {
   "cell_type": "code",
   "execution_count": 76,
   "metadata": {},
   "outputs": [
    {
     "data": {
      "text/plain": [
       "Index(['authorized_flag', 'card_id', 'city_id', 'category_1', 'installments',\n",
       "       'category_3', 'merchant_category_id', 'merchant_id', 'month_lag',\n",
       "       'purchase_amount', 'purchase_date', 'category_2', 'state_id',\n",
       "       'subsector_id', 'purchase_year', 'purchase_month', 'purchase_day',\n",
       "       'purchase_hour', 'purchase_weekofyear', 'purchase_dayofweek',\n",
       "       'purchase_quarter', 'reference_date', 'reference_year',\n",
       "       'reference_month', 'reference_day', 'reference_hour',\n",
       "       'reference_weekofyear', 'reference_dayofweek', 'reference_quarter',\n",
       "       'week_lag'],\n",
       "      dtype='object')"
      ]
     },
     "execution_count": 76,
     "metadata": {},
     "output_type": "execute_result"
    }
   ],
   "source": [
    "hist.columns"
   ]
  },
  {
   "cell_type": "code",
   "execution_count": 77,
   "metadata": {},
   "outputs": [],
   "source": [
    "def mode(series):\n",
    "    if len(series.mode()) > 0:\n",
    "        return series.mode().iloc[0]\n",
    "    else:\n",
    "        return np.nan\n",
    "\n",
    "def nancnt(series):\n",
    "    '''Returns the count of NaN values'''\n",
    "    return series.isnull().sum()\n",
    "\n",
    "def nanperc(series):\n",
    "    '''Returns the percentile of NaN values'''\n",
    "    return 100 * series.isnull().sum() / len(series)\n",
    "\n",
    "agg_func = {\n",
    "    'city_id'              : ['nunique', mode, nancnt, nanperc],\n",
    "    'category_1'           : ['sum', 'mean'],\n",
    "    'installments'         : ['sum', 'median', 'mean', 'max', 'min', 'std', mode, nancnt, nanperc],\n",
    "    'category_3'           : ['nunique', mode, nancnt, nanperc],\n",
    "    'merchant_category_id' : ['nunique', mode, nancnt, nanperc],\n",
    "    'merchant_id'          : ['nunique', mode, nancnt, nanperc],\n",
    "    'month_lag'            : ['mean'],\n",
    "    'purchase_amount'      : ['sum', 'median', 'mean', 'max', 'min', 'std', mode, 'size'],\n",
    "    'category_2'           : ['nunique', mode, nancnt, nanperc],\n",
    "    'state_id'             : ['nunique', mode, nancnt, nanperc],\n",
    "    'subsector_id'         : ['nunique', mode, nancnt, nanperc],\n",
    "    'purchase_year'        : ['mean', 'median', 'max', 'min', 'std', mode],\n",
    "    'purchase_month'       : ['mean', 'median', 'max', 'min', 'std', mode],\n",
    "    'purchase_day'         : ['mean', 'median', 'max', 'min', 'std', mode],\n",
    "    'purchase_hour'        : ['mean', 'median', 'max', 'min', 'std', mode],\n",
    "    'purchase_weekofyear'  : ['mean', 'median', 'max', 'min', 'std', mode],\n",
    "    'purchase_dayofweek'   : ['mean', 'median', 'max', 'min', 'std', mode],\n",
    "    'purchase_quarter'     : ['mean', 'median', 'max', 'min', 'std', mode],\n",
    "    'week_lag'             : ['median', 'mean', 'max', 'min', 'std', mode]\n",
    "}\n",
    "\n",
    "# Aggregate features, use  \n",
    "# - both domestic and non-domestic transactions,\n",
    "# - for the whole evaluation period.\n",
    "\n",
    "hist_agg_1 = aggregate_features(df = hist, prefix = 'new_', suffix = '_all', gb_cols = ['card_id'], agg_func = agg_func,\n",
    "                                authorized = True, non_authorized = True, \n",
    "                                domestic = True, non_domestic = True,\n",
    "                                max_month_lag = None, max_week_lag = None,\n",
    "                                min_installments = None, max_installments = None)"
   ]
  },
  {
   "cell_type": "code",
   "execution_count": 78,
   "metadata": {},
   "outputs": [
    {
     "data": {
      "text/html": [
       "<div>\n",
       "<style scoped>\n",
       "    .dataframe tbody tr th:only-of-type {\n",
       "        vertical-align: middle;\n",
       "    }\n",
       "\n",
       "    .dataframe tbody tr th {\n",
       "        vertical-align: top;\n",
       "    }\n",
       "\n",
       "    .dataframe thead th {\n",
       "        text-align: right;\n",
       "    }\n",
       "</style>\n",
       "<table border=\"1\" class=\"dataframe\">\n",
       "  <thead>\n",
       "    <tr style=\"text-align: right;\">\n",
       "      <th></th>\n",
       "      <th>card_id</th>\n",
       "      <th>new_city_id_nunique_all</th>\n",
       "      <th>new_city_id_mode_all</th>\n",
       "      <th>new_city_id_nancnt_all</th>\n",
       "      <th>new_city_id_nanperc_all</th>\n",
       "      <th>new_category_1_sum_all</th>\n",
       "      <th>new_category_1_mean_all</th>\n",
       "      <th>new_installments_sum_all</th>\n",
       "      <th>new_installments_median_all</th>\n",
       "      <th>new_installments_mean_all</th>\n",
       "      <th>...</th>\n",
       "      <th>new_purchase_quarter_max_all</th>\n",
       "      <th>new_purchase_quarter_min_all</th>\n",
       "      <th>new_purchase_quarter_std_all</th>\n",
       "      <th>new_purchase_quarter_mode_all</th>\n",
       "      <th>new_week_lag_median_all</th>\n",
       "      <th>new_week_lag_mean_all</th>\n",
       "      <th>new_week_lag_max_all</th>\n",
       "      <th>new_week_lag_min_all</th>\n",
       "      <th>new_week_lag_std_all</th>\n",
       "      <th>new_week_lag_mode_all</th>\n",
       "    </tr>\n",
       "  </thead>\n",
       "  <tbody>\n",
       "    <tr>\n",
       "      <th>0</th>\n",
       "      <td>7377857</td>\n",
       "      <td>2</td>\n",
       "      <td>69.0</td>\n",
       "      <td>0.0</td>\n",
       "      <td>0.000000</td>\n",
       "      <td>0</td>\n",
       "      <td>0.000000</td>\n",
       "      <td>2.0</td>\n",
       "      <td>1.0</td>\n",
       "      <td>1.000000</td>\n",
       "      <td>...</td>\n",
       "      <td>2</td>\n",
       "      <td>2</td>\n",
       "      <td>0.000000</td>\n",
       "      <td>2</td>\n",
       "      <td>9.5</td>\n",
       "      <td>9.500000</td>\n",
       "      <td>10</td>\n",
       "      <td>9</td>\n",
       "      <td>0.707107</td>\n",
       "      <td>9</td>\n",
       "    </tr>\n",
       "    <tr>\n",
       "      <th>1</th>\n",
       "      <td>19103846</td>\n",
       "      <td>7</td>\n",
       "      <td>314.0</td>\n",
       "      <td>3.0</td>\n",
       "      <td>11.539062</td>\n",
       "      <td>2</td>\n",
       "      <td>0.076923</td>\n",
       "      <td>43.0</td>\n",
       "      <td>1.0</td>\n",
       "      <td>1.719727</td>\n",
       "      <td>...</td>\n",
       "      <td>2</td>\n",
       "      <td>1</td>\n",
       "      <td>0.485165</td>\n",
       "      <td>1</td>\n",
       "      <td>7.0</td>\n",
       "      <td>7.846154</td>\n",
       "      <td>13</td>\n",
       "      <td>4</td>\n",
       "      <td>2.633512</td>\n",
       "      <td>6</td>\n",
       "    </tr>\n",
       "    <tr>\n",
       "      <th>2</th>\n",
       "      <td>22048496</td>\n",
       "      <td>1</td>\n",
       "      <td>137.0</td>\n",
       "      <td>0.0</td>\n",
       "      <td>0.000000</td>\n",
       "      <td>0</td>\n",
       "      <td>0.000000</td>\n",
       "      <td>0.0</td>\n",
       "      <td>0.0</td>\n",
       "      <td>0.000000</td>\n",
       "      <td>...</td>\n",
       "      <td>1</td>\n",
       "      <td>1</td>\n",
       "      <td>0.000000</td>\n",
       "      <td>1</td>\n",
       "      <td>6.5</td>\n",
       "      <td>6.500000</td>\n",
       "      <td>7</td>\n",
       "      <td>6</td>\n",
       "      <td>0.707107</td>\n",
       "      <td>6</td>\n",
       "    </tr>\n",
       "    <tr>\n",
       "      <th>3</th>\n",
       "      <td>24721286</td>\n",
       "      <td>7</td>\n",
       "      <td>69.0</td>\n",
       "      <td>0.0</td>\n",
       "      <td>0.000000</td>\n",
       "      <td>0</td>\n",
       "      <td>0.000000</td>\n",
       "      <td>0.0</td>\n",
       "      <td>0.0</td>\n",
       "      <td>0.000000</td>\n",
       "      <td>...</td>\n",
       "      <td>4</td>\n",
       "      <td>4</td>\n",
       "      <td>0.000000</td>\n",
       "      <td>4</td>\n",
       "      <td>9.0</td>\n",
       "      <td>9.387097</td>\n",
       "      <td>13</td>\n",
       "      <td>7</td>\n",
       "      <td>2.108355</td>\n",
       "      <td>8</td>\n",
       "    </tr>\n",
       "    <tr>\n",
       "      <th>4</th>\n",
       "      <td>25427418</td>\n",
       "      <td>2</td>\n",
       "      <td>161.0</td>\n",
       "      <td>0.0</td>\n",
       "      <td>0.000000</td>\n",
       "      <td>0</td>\n",
       "      <td>0.000000</td>\n",
       "      <td>17.0</td>\n",
       "      <td>1.0</td>\n",
       "      <td>1.700195</td>\n",
       "      <td>...</td>\n",
       "      <td>2</td>\n",
       "      <td>1</td>\n",
       "      <td>0.467099</td>\n",
       "      <td>1</td>\n",
       "      <td>5.0</td>\n",
       "      <td>6.818182</td>\n",
       "      <td>13</td>\n",
       "      <td>4</td>\n",
       "      <td>3.250175</td>\n",
       "      <td>4</td>\n",
       "    </tr>\n",
       "  </tbody>\n",
       "</table>\n",
       "<p>5 rows × 97 columns</p>\n",
       "</div>"
      ],
      "text/plain": [
       "    card_id  new_city_id_nunique_all  new_city_id_mode_all  \\\n",
       "0   7377857                        2                  69.0   \n",
       "1  19103846                        7                 314.0   \n",
       "2  22048496                        1                 137.0   \n",
       "3  24721286                        7                  69.0   \n",
       "4  25427418                        2                 161.0   \n",
       "\n",
       "   new_city_id_nancnt_all  new_city_id_nanperc_all  new_category_1_sum_all  \\\n",
       "0                     0.0                 0.000000                       0   \n",
       "1                     3.0                11.539062                       2   \n",
       "2                     0.0                 0.000000                       0   \n",
       "3                     0.0                 0.000000                       0   \n",
       "4                     0.0                 0.000000                       0   \n",
       "\n",
       "   new_category_1_mean_all  new_installments_sum_all  \\\n",
       "0                 0.000000                       2.0   \n",
       "1                 0.076923                      43.0   \n",
       "2                 0.000000                       0.0   \n",
       "3                 0.000000                       0.0   \n",
       "4                 0.000000                      17.0   \n",
       "\n",
       "   new_installments_median_all  new_installments_mean_all  \\\n",
       "0                          1.0                   1.000000   \n",
       "1                          1.0                   1.719727   \n",
       "2                          0.0                   0.000000   \n",
       "3                          0.0                   0.000000   \n",
       "4                          1.0                   1.700195   \n",
       "\n",
       "           ...            new_purchase_quarter_max_all  \\\n",
       "0          ...                                       2   \n",
       "1          ...                                       2   \n",
       "2          ...                                       1   \n",
       "3          ...                                       4   \n",
       "4          ...                                       2   \n",
       "\n",
       "   new_purchase_quarter_min_all  new_purchase_quarter_std_all  \\\n",
       "0                             2                      0.000000   \n",
       "1                             1                      0.485165   \n",
       "2                             1                      0.000000   \n",
       "3                             4                      0.000000   \n",
       "4                             1                      0.467099   \n",
       "\n",
       "   new_purchase_quarter_mode_all  new_week_lag_median_all  \\\n",
       "0                              2                      9.5   \n",
       "1                              1                      7.0   \n",
       "2                              1                      6.5   \n",
       "3                              4                      9.0   \n",
       "4                              1                      5.0   \n",
       "\n",
       "   new_week_lag_mean_all  new_week_lag_max_all  new_week_lag_min_all  \\\n",
       "0               9.500000                    10                     9   \n",
       "1               7.846154                    13                     4   \n",
       "2               6.500000                     7                     6   \n",
       "3               9.387097                    13                     7   \n",
       "4               6.818182                    13                     4   \n",
       "\n",
       "   new_week_lag_std_all  new_week_lag_mode_all  \n",
       "0              0.707107                      9  \n",
       "1              2.633512                      6  \n",
       "2              0.707107                      6  \n",
       "3              2.108355                      8  \n",
       "4              3.250175                      4  \n",
       "\n",
       "[5 rows x 97 columns]"
      ]
     },
     "execution_count": 78,
     "metadata": {},
     "output_type": "execute_result"
    }
   ],
   "source": [
    "hist_agg_1.head()"
   ]
  },
  {
   "cell_type": "code",
   "execution_count": 79,
   "metadata": {},
   "outputs": [],
   "source": [
    "hist_agg_1.to_pickle(DIRECTORY + 'new_agg_1.pkl')"
   ]
  },
  {
   "cell_type": "code",
   "execution_count": 80,
   "metadata": {},
   "outputs": [],
   "source": [
    "# Aggregate features, use \n",
    "# - both domestic and non-domestic transactions,\n",
    "# - for the first 1 month of evaluation period.\n",
    "\n",
    "hist_agg_2 = aggregate_features(df = hist, prefix = 'new_', suffix = '_lag1m', gb_cols = ['card_id'], agg_func = agg_func,\n",
    "                                authorized = True, non_authorized = True, \n",
    "                                domestic = True, non_domestic = True,\n",
    "                                max_month_lag = 1, max_week_lag = None,\n",
    "                                min_installments = None, max_installments = None)"
   ]
  },
  {
   "cell_type": "code",
   "execution_count": 81,
   "metadata": {},
   "outputs": [
    {
     "data": {
      "text/html": [
       "<div>\n",
       "<style scoped>\n",
       "    .dataframe tbody tr th:only-of-type {\n",
       "        vertical-align: middle;\n",
       "    }\n",
       "\n",
       "    .dataframe tbody tr th {\n",
       "        vertical-align: top;\n",
       "    }\n",
       "\n",
       "    .dataframe thead th {\n",
       "        text-align: right;\n",
       "    }\n",
       "</style>\n",
       "<table border=\"1\" class=\"dataframe\">\n",
       "  <thead>\n",
       "    <tr style=\"text-align: right;\">\n",
       "      <th></th>\n",
       "      <th>card_id</th>\n",
       "      <th>new_city_id_nunique_lag1m</th>\n",
       "      <th>new_city_id_mode_lag1m</th>\n",
       "      <th>new_city_id_nancnt_lag1m</th>\n",
       "      <th>new_city_id_nanperc_lag1m</th>\n",
       "      <th>new_category_1_sum_lag1m</th>\n",
       "      <th>new_category_1_mean_lag1m</th>\n",
       "      <th>new_installments_sum_lag1m</th>\n",
       "      <th>new_installments_median_lag1m</th>\n",
       "      <th>new_installments_mean_lag1m</th>\n",
       "      <th>...</th>\n",
       "      <th>new_purchase_quarter_max_lag1m</th>\n",
       "      <th>new_purchase_quarter_min_lag1m</th>\n",
       "      <th>new_purchase_quarter_std_lag1m</th>\n",
       "      <th>new_purchase_quarter_mode_lag1m</th>\n",
       "      <th>new_week_lag_median_lag1m</th>\n",
       "      <th>new_week_lag_mean_lag1m</th>\n",
       "      <th>new_week_lag_max_lag1m</th>\n",
       "      <th>new_week_lag_min_lag1m</th>\n",
       "      <th>new_week_lag_std_lag1m</th>\n",
       "      <th>new_week_lag_mode_lag1m</th>\n",
       "    </tr>\n",
       "  </thead>\n",
       "  <tbody>\n",
       "    <tr>\n",
       "      <th>0</th>\n",
       "      <td>19103846</td>\n",
       "      <td>7</td>\n",
       "      <td>69.0</td>\n",
       "      <td>2.0</td>\n",
       "      <td>11.765625</td>\n",
       "      <td>1</td>\n",
       "      <td>0.058824</td>\n",
       "      <td>20.0</td>\n",
       "      <td>1.0</td>\n",
       "      <td>1.250</td>\n",
       "      <td>...</td>\n",
       "      <td>1</td>\n",
       "      <td>1</td>\n",
       "      <td>0.0</td>\n",
       "      <td>1</td>\n",
       "      <td>6.0</td>\n",
       "      <td>6.235294</td>\n",
       "      <td>8</td>\n",
       "      <td>4</td>\n",
       "      <td>1.347656</td>\n",
       "      <td>6</td>\n",
       "    </tr>\n",
       "    <tr>\n",
       "      <th>1</th>\n",
       "      <td>22048496</td>\n",
       "      <td>1</td>\n",
       "      <td>137.0</td>\n",
       "      <td>0.0</td>\n",
       "      <td>0.000000</td>\n",
       "      <td>0</td>\n",
       "      <td>0.000000</td>\n",
       "      <td>0.0</td>\n",
       "      <td>0.0</td>\n",
       "      <td>0.000</td>\n",
       "      <td>...</td>\n",
       "      <td>1</td>\n",
       "      <td>1</td>\n",
       "      <td>0.0</td>\n",
       "      <td>1</td>\n",
       "      <td>6.5</td>\n",
       "      <td>6.500000</td>\n",
       "      <td>7</td>\n",
       "      <td>6</td>\n",
       "      <td>0.707107</td>\n",
       "      <td>6</td>\n",
       "    </tr>\n",
       "    <tr>\n",
       "      <th>2</th>\n",
       "      <td>24721286</td>\n",
       "      <td>4</td>\n",
       "      <td>69.0</td>\n",
       "      <td>0.0</td>\n",
       "      <td>0.000000</td>\n",
       "      <td>0</td>\n",
       "      <td>0.000000</td>\n",
       "      <td>0.0</td>\n",
       "      <td>0.0</td>\n",
       "      <td>0.000</td>\n",
       "      <td>...</td>\n",
       "      <td>4</td>\n",
       "      <td>4</td>\n",
       "      <td>0.0</td>\n",
       "      <td>4</td>\n",
       "      <td>8.0</td>\n",
       "      <td>8.095238</td>\n",
       "      <td>9</td>\n",
       "      <td>7</td>\n",
       "      <td>0.768424</td>\n",
       "      <td>8</td>\n",
       "    </tr>\n",
       "    <tr>\n",
       "      <th>3</th>\n",
       "      <td>25427418</td>\n",
       "      <td>2</td>\n",
       "      <td>161.0</td>\n",
       "      <td>0.0</td>\n",
       "      <td>0.000000</td>\n",
       "      <td>0</td>\n",
       "      <td>0.000000</td>\n",
       "      <td>15.0</td>\n",
       "      <td>1.5</td>\n",
       "      <td>1.875</td>\n",
       "      <td>...</td>\n",
       "      <td>1</td>\n",
       "      <td>1</td>\n",
       "      <td>0.0</td>\n",
       "      <td>1</td>\n",
       "      <td>5.0</td>\n",
       "      <td>5.125000</td>\n",
       "      <td>8</td>\n",
       "      <td>4</td>\n",
       "      <td>1.356203</td>\n",
       "      <td>4</td>\n",
       "    </tr>\n",
       "    <tr>\n",
       "      <th>4</th>\n",
       "      <td>40934234</td>\n",
       "      <td>2</td>\n",
       "      <td>69.0</td>\n",
       "      <td>0.0</td>\n",
       "      <td>0.000000</td>\n",
       "      <td>0</td>\n",
       "      <td>0.000000</td>\n",
       "      <td>2.0</td>\n",
       "      <td>1.0</td>\n",
       "      <td>1.000</td>\n",
       "      <td>...</td>\n",
       "      <td>1</td>\n",
       "      <td>1</td>\n",
       "      <td>0.0</td>\n",
       "      <td>1</td>\n",
       "      <td>4.0</td>\n",
       "      <td>4.000000</td>\n",
       "      <td>4</td>\n",
       "      <td>4</td>\n",
       "      <td>0.000000</td>\n",
       "      <td>4</td>\n",
       "    </tr>\n",
       "  </tbody>\n",
       "</table>\n",
       "<p>5 rows × 97 columns</p>\n",
       "</div>"
      ],
      "text/plain": [
       "    card_id  new_city_id_nunique_lag1m  new_city_id_mode_lag1m  \\\n",
       "0  19103846                          7                    69.0   \n",
       "1  22048496                          1                   137.0   \n",
       "2  24721286                          4                    69.0   \n",
       "3  25427418                          2                   161.0   \n",
       "4  40934234                          2                    69.0   \n",
       "\n",
       "   new_city_id_nancnt_lag1m  new_city_id_nanperc_lag1m  \\\n",
       "0                       2.0                  11.765625   \n",
       "1                       0.0                   0.000000   \n",
       "2                       0.0                   0.000000   \n",
       "3                       0.0                   0.000000   \n",
       "4                       0.0                   0.000000   \n",
       "\n",
       "   new_category_1_sum_lag1m  new_category_1_mean_lag1m  \\\n",
       "0                         1                   0.058824   \n",
       "1                         0                   0.000000   \n",
       "2                         0                   0.000000   \n",
       "3                         0                   0.000000   \n",
       "4                         0                   0.000000   \n",
       "\n",
       "   new_installments_sum_lag1m  new_installments_median_lag1m  \\\n",
       "0                        20.0                            1.0   \n",
       "1                         0.0                            0.0   \n",
       "2                         0.0                            0.0   \n",
       "3                        15.0                            1.5   \n",
       "4                         2.0                            1.0   \n",
       "\n",
       "   new_installments_mean_lag1m           ...             \\\n",
       "0                        1.250           ...              \n",
       "1                        0.000           ...              \n",
       "2                        0.000           ...              \n",
       "3                        1.875           ...              \n",
       "4                        1.000           ...              \n",
       "\n",
       "   new_purchase_quarter_max_lag1m  new_purchase_quarter_min_lag1m  \\\n",
       "0                               1                               1   \n",
       "1                               1                               1   \n",
       "2                               4                               4   \n",
       "3                               1                               1   \n",
       "4                               1                               1   \n",
       "\n",
       "   new_purchase_quarter_std_lag1m  new_purchase_quarter_mode_lag1m  \\\n",
       "0                             0.0                                1   \n",
       "1                             0.0                                1   \n",
       "2                             0.0                                4   \n",
       "3                             0.0                                1   \n",
       "4                             0.0                                1   \n",
       "\n",
       "   new_week_lag_median_lag1m  new_week_lag_mean_lag1m  new_week_lag_max_lag1m  \\\n",
       "0                        6.0                 6.235294                       8   \n",
       "1                        6.5                 6.500000                       7   \n",
       "2                        8.0                 8.095238                       9   \n",
       "3                        5.0                 5.125000                       8   \n",
       "4                        4.0                 4.000000                       4   \n",
       "\n",
       "   new_week_lag_min_lag1m  new_week_lag_std_lag1m  new_week_lag_mode_lag1m  \n",
       "0                       4                1.347656                        6  \n",
       "1                       6                0.707107                        6  \n",
       "2                       7                0.768424                        8  \n",
       "3                       4                1.356203                        4  \n",
       "4                       4                0.000000                        4  \n",
       "\n",
       "[5 rows x 97 columns]"
      ]
     },
     "execution_count": 81,
     "metadata": {},
     "output_type": "execute_result"
    }
   ],
   "source": [
    "hist_agg_2.to_pickle(DIRECTORY + 'new_agg_2.pkl')\n",
    "hist_agg_2.head()"
   ]
  },
  {
   "cell_type": "code",
   "execution_count": 82,
   "metadata": {},
   "outputs": [],
   "source": [
    "# Aggregate features, use \n",
    "# - only domestic transactions,\n",
    "# - for the whole evaluation period.\n",
    "\n",
    "hist_agg_3 = aggregate_features(df = hist, prefix = 'new_', suffix = '_dom_all', gb_cols = ['card_id'], agg_func = agg_func,\n",
    "                                authorized = True, non_authorized = True, \n",
    "                                domestic = True, non_domestic = False,\n",
    "                                max_month_lag = None, max_week_lag = None,\n",
    "                                min_installments = None, max_installments = None)\n",
    "hist_agg_3.to_pickle(DIRECTORY + 'new_agg_3.pkl')"
   ]
  },
  {
   "cell_type": "code",
   "execution_count": 83,
   "metadata": {},
   "outputs": [],
   "source": [
    "# Aggregate features, use \n",
    "# - only domestic transactions,\n",
    "# - for the first month of evaluation period.\n",
    "\n",
    "hist_agg_4 = aggregate_features(df = hist, prefix = 'new_', suffix = '_dom_lag1', gb_cols = ['card_id'], agg_func = agg_func,\n",
    "                                authorized = True, non_authorized = True, \n",
    "                                domestic = True, non_domestic = False,\n",
    "                                max_month_lag = 1, max_week_lag = None,\n",
    "                                min_installments = None, max_installments = None)\n",
    "hist_agg_4.to_pickle(DIRECTORY + 'new_agg_4.pkl')"
   ]
  },
  {
   "cell_type": "code",
   "execution_count": 84,
   "metadata": {},
   "outputs": [],
   "source": [
    "# Aggregate features, use \n",
    "# - only non-domestic transactions,\n",
    "# - for the whole evaluation period.\n",
    "\n",
    "hist_agg_5 = aggregate_features(df = hist, prefix = 'new_', suffix = '_nondom_all', gb_cols = ['card_id'], agg_func = agg_func,\n",
    "                                authorized = True, non_authorized = True, \n",
    "                                domestic = False, non_domestic = True,\n",
    "                                max_month_lag = None, max_week_lag = None,\n",
    "                                min_installments = None, max_installments = None)\n",
    "hist_agg_5.to_pickle(DIRECTORY + 'new_agg_5.pkl')"
   ]
  },
  {
   "cell_type": "code",
   "execution_count": 85,
   "metadata": {},
   "outputs": [],
   "source": [
    "# Aggregate features, use \n",
    "# - only non-domestic transactions,\n",
    "# - for first month of evaluation period.\n",
    "\n",
    "hist_agg_6 = aggregate_features(df = hist, prefix = 'new_', suffix = '_nondom_lag1m', gb_cols = ['card_id'], agg_func = agg_func,\n",
    "                                authorized = True, non_authorized = True, \n",
    "                                domestic = False, non_domestic = True,\n",
    "                                max_month_lag = 1, max_week_lag = None,\n",
    "                                min_installments = None, max_installments = None)\n",
    "hist_agg_6.to_pickle(DIRECTORY + 'new_agg_6.pkl')"
   ]
  },
  {
   "cell_type": "code",
   "execution_count": 86,
   "metadata": {},
   "outputs": [],
   "source": [
    "hist_agg = hist_agg_1.merge(hist_agg_2, how = 'left', on = 'card_id')\n",
    "hist_agg = hist_agg.merge(hist_agg_3, how = 'left', on = 'card_id')\n",
    "hist_agg = hist_agg.merge(hist_agg_4, how = 'left', on = 'card_id')\n",
    "hist_agg = hist_agg.merge(hist_agg_5, how = 'left', on = 'card_id')\n",
    "hist_agg = hist_agg.merge(hist_agg_6, how = 'left', on = 'card_id')\n",
    "\n",
    "hist_agg.to_pickle(DIRECTORY + 'new_agg_1_6.pkl')\n",
    "\n",
    "del hist_agg_1, hist_agg_2, hist_agg_3, hist_agg_4, hist_agg_5, hist_agg_6"
   ]
  },
  {
   "cell_type": "code",
   "execution_count": null,
   "metadata": {},
   "outputs": [],
   "source": []
  }
 ],
 "metadata": {
  "kernelspec": {
   "display_name": "Python 3",
   "language": "python",
   "name": "python3"
  },
  "language_info": {
   "codemirror_mode": {
    "name": "ipython",
    "version": 3
   },
   "file_extension": ".py",
   "mimetype": "text/x-python",
   "name": "python",
   "nbconvert_exporter": "python",
   "pygments_lexer": "ipython3",
   "version": "3.7.0"
  }
 },
 "nbformat": 4,
 "nbformat_minor": 2
}
