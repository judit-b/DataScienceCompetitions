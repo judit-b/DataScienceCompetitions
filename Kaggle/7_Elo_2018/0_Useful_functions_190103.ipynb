{
 "cells": [
  {
   "cell_type": "markdown",
   "metadata": {},
   "source": [
    "# ELO MERCHANT CATEGORY RECOMMENDATION \n",
    "### COMPETITION ON KAGGLE\n",
    "## Useful Functions\n",
    "### 3-1-2019"
   ]
  },
  {
   "cell_type": "code",
   "execution_count": null,
   "metadata": {},
   "outputs": [],
   "source": [
    "import pandas as pd\n",
    "import numpy as np\n",
    "#import matplotlib.pyplot as plt\n",
    "#%matplotlib inline\n",
    "#import seaborn as sns\n",
    "import random\n",
    "#import missingno\n",
    "import pickle\n",
    "\n",
    "#sns.set(style=\"ticks\")\n",
    "\n",
    "random.seed(1)"
   ]
  },
  {
   "cell_type": "code",
   "execution_count": null,
   "metadata": {},
   "outputs": [],
   "source": [
    "def reduce_mem_usage(df, verbose = True):\n",
    "    numerics = ['int16', 'int32', 'int64', 'float16', 'float32', 'float64']\n",
    "    start_mem = df.memory_usage().sum() / 1024**2\n",
    "    if verbose: print('Starting memory usage: {:5.2f} MB'.format(start_mem))\n",
    "\n",
    "    for col in df.columns:\n",
    "        col_type = df[col].dtypes\n",
    "        if col_type in numerics:\n",
    "            c_min = df[col].min()\n",
    "            c_max = df[col].max()\n",
    "            if str(col_type)[:3] == 'int':\n",
    "                if c_min > np.iinfo(np.int8).min and c_max < np.iinfo(np.int8).max:\n",
    "                    df[col] = df[col].astype(np.int8)\n",
    "                elif c_min > np.iinfo(np.int16).min and c_max < np.iinfo(np.int16).max:\n",
    "                    df[col] = df[col].astype(np.int16)\n",
    "                elif c_min > np.iinfo(np.int32).min and c_max < np.iinfo(np.int32).max:\n",
    "                    df[col] = df[col].astype(np.int32)\n",
    "                elif c_min > np.iinfo(np.int64).min and c_max < np.iinfo(np.int64).max:\n",
    "                    df[col] = df[col].astype(np.int64)  \n",
    "            else:\n",
    "                if c_min > np.finfo(np.float16).min and c_max < np.finfo(np.float16).max:\n",
    "                    df[col] = df[col].astype(np.float16)\n",
    "                elif c_min > np.finfo(np.float32).min and c_max < np.finfo(np.float32).max:\n",
    "                    df[col] = df[col].astype(np.float32)\n",
    "                else:\n",
    "                    df[col] = df[col].astype(np.float64)    \n",
    "    end_mem = df.memory_usage().sum() / 1024**2\n",
    "    if verbose: print('Reduced memory usage: {:5.2f} MB ({:.1f}% reduction)'.format(end_mem, 100 * (start_mem - end_mem\\\n",
    "                                                                                                   ) / start_mem))\n",
    "    return df\n",
    "\n",
    "def mode(series):\n",
    "    if len(series.mode()) > 0:\n",
    "        return series.mode().iloc[0]\n",
    "    else:\n",
    "        return np.nan\n",
    "\n",
    "def label_encoder(train_df, test_df = None, valid_df = None, localtest_df = None,\n",
    "                  prefix = '_labelenc_', suffix = '',\n",
    "                  target = 'is_outlier',\n",
    "                  cols_and_encodings = {'feature_1' : ['mean', 'median'],\n",
    "                                         'feature_2' : [mode]}):\n",
    "    '''\n",
    "    Calculates label encodings based on train_df.\n",
    "    Can be used both for classification and regression problems.\n",
    "    \n",
    "    cols_and_encodings is a dictionary. \n",
    "    Keys: features that we want to encode (usually categorical features with only a few possible values).\n",
    "    Values : list of aggregation functions which will be applied on target values.\n",
    "    '''\n",
    "    for col, enc_list in cols_and_encodings.items():\n",
    "        agg_df = train_df.groupby(col).agg({target : enc_list})\n",
    "        agg_df.columns = [col + prefix + '_'.join(colname).strip() + suffix for colname in agg_df.columns.values]  \n",
    "        agg_df.reset_index(inplace = True)\n",
    "        train_df = train_df.merge(agg_df, how = 'left', on = col)\n",
    "        if test_df:\n",
    "            test_df = test_df.merge(agg_df, how = 'left', on = col)\n",
    "        if valid_df:\n",
    "            valid_df = valid_df.merge(agg_df, how = 'left', on = col)\n",
    "        if localtest_df:\n",
    "            localtest_df = localtest_df.merge(agg_df, how = 'left', on = col)\n",
    "\n",
    "    return train_df, test_df, valid_df, localtest_df"
   ]
  }
 ],
 "metadata": {
  "kernelspec": {
   "display_name": "Python 3",
   "language": "python",
   "name": "python3"
  },
  "language_info": {
   "codemirror_mode": {
    "name": "ipython",
    "version": 3
   },
   "file_extension": ".py",
   "mimetype": "text/x-python",
   "name": "python",
   "nbconvert_exporter": "python",
   "pygments_lexer": "ipython3",
   "version": "3.7.0"
  }
 },
 "nbformat": 4,
 "nbformat_minor": 2
}
